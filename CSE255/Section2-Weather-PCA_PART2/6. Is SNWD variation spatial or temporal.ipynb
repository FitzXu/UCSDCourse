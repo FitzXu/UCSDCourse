{
 "cells": [
  {
   "cell_type": "markdown",
   "metadata": {
    "slideshow": {
     "slide_type": "slide"
    }
   },
   "source": [
    "## Analyze whether early or late snow changes more year to year or place to place.\n",
    "\n",
    "* We know from previous notebooks that the value of `coef_2` corresponds to whether the snow season is early or late. \n",
    "* We want to study whether early/late season is more dependent on the year or on the location.\n",
    "* We will use RMS Error to quantify the strength of these dependencies."
   ]
  },
  {
   "cell_type": "code",
   "execution_count": null,
   "metadata": {
    "ExecuteTime": {
     "end_time": "2019-05-07T03:08:11.774241Z",
     "start_time": "2019-05-07T03:08:09.812Z"
    },
    "slideshow": {
     "slide_type": "skip"
    }
   },
   "outputs": [],
   "source": [
    "import pandas as pd\n",
    "import numpy as np\n",
    "import urllib\n",
    "import math"
   ]
  },
  {
   "cell_type": "code",
   "execution_count": 2,
   "metadata": {
    "ExecuteTime": {
     "end_time": "2019-05-07T02:41:47.261719Z",
     "start_time": "2019-05-07T02:41:40.925528Z"
    },
    "slideshow": {
     "slide_type": "skip"
    }
   },
   "outputs": [],
   "source": [
    "import findspark\n",
    "findspark.init()\n",
    "\n",
    "from pyspark import SparkContext\n",
    "#sc.stop()\n",
    "sc = SparkContext(master=\"local[3]\",pyFiles=['lib/numpy_pack.py','lib/spark_PCA.py','lib/computeStatistics.py'])\n",
    "\n",
    "from pyspark import SparkContext\n",
    "from pyspark.sql import *\n",
    "sqlContext = SQLContext(sc)"
   ]
  },
  {
   "cell_type": "code",
   "execution_count": 25,
   "metadata": {
    "ExecuteTime": {
     "end_time": "2019-05-07T03:08:12.035068Z",
     "start_time": "2019-05-07T03:08:11.916109Z"
    },
    "slideshow": {
     "slide_type": "skip"
    }
   },
   "outputs": [
    {
     "name": "stdout",
     "output_type": "stream",
     "text": [
      "Populating the interactive namespace from numpy and matplotlib\n"
     ]
    },
    {
     "name": "stderr",
     "output_type": "stream",
     "text": [
      "/opt/conda/lib/python3.6/site-packages/IPython/core/magics/pylab.py:160: UserWarning: pylab import has clobbered these variables: ['load', 'time']\n",
      "`%matplotlib` prevents importing * from pylab and numpy\n",
      "  \"\\n`%matplotlib` prevents importing * from pylab and numpy\"\n"
     ]
    }
   ],
   "source": [
    "%pylab inline\n",
    "import numpy as np\n",
    "from lib.numpy_pack import packArray,unpackArray\n",
    "from lib.spark_PCA import computeCov\n",
    "from lib.computeStatistics import *"
   ]
  },
  {
   "cell_type": "code",
   "execution_count": 28,
   "metadata": {
    "ExecuteTime": {
     "end_time": "2019-05-07T03:08:26.248141Z",
     "start_time": "2019-05-07T03:08:25.716058Z"
    },
    "slideshow": {
     "slide_type": "skip"
    }
   },
   "outputs": [
    {
     "name": "stdout",
     "output_type": "stream",
     "text": [
      "keys from STAT= dict_keys(['SNOW_s20', 'TMIN_s20', 'TOBS', 'SNWD_s20', 'PRCP_s20', 'TOBS_s20', 'PRCP', 'TMAX', 'TMAX_s20', 'TMIN', 'SNOW', 'SNWD'])\n"
     ]
    }
   ],
   "source": [
    "### Read the data frame from pickle file\n",
    "\n",
    "data_dir='../Data/Weather'\n",
    "state='WA'\n",
    "meas='TOBS_s20'\n",
    "\n",
    "from pickle import load\n",
    "\n",
    "#read statistics\n",
    "filename=data_dir+'/STAT_%s.pickle'%state\n",
    "STAT,STAT_Descriptions = load(open(filename,'rb'))\n",
    "print('keys from STAT=',STAT.keys())"
   ]
  },
  {
   "cell_type": "code",
   "execution_count": 29,
   "metadata": {
    "ExecuteTime": {
     "end_time": "2019-05-07T03:08:36.126568Z",
     "start_time": "2019-05-07T03:08:35.351959Z"
    },
    "slideshow": {
     "slide_type": "skip"
    }
   },
   "outputs": [
    {
     "name": "stdout",
     "output_type": "stream",
     "text": [
      "12636\n"
     ]
    }
   ],
   "source": [
    "#!ls -ld $data_dir/*.parquet\n",
    "\n",
    "#read data\n",
    "filename=data_dir+'/decon_%s_%s.parquet'%(state,meas)\n",
    "\n",
    "df=sqlContext.read.parquet(filename)\n",
    "print(df.count())\n"
   ]
  },
  {
   "cell_type": "code",
   "execution_count": 30,
   "metadata": {
    "ExecuteTime": {
     "end_time": "2019-05-07T03:08:38.956245Z",
     "start_time": "2019-05-07T03:08:37.244331Z"
    },
    "slideshow": {
     "slide_type": "subslide"
    }
   },
   "outputs": [
    {
     "data": {
      "text/html": [
       "<div>\n",
       "<style scoped>\n",
       "    .dataframe tbody tr th:only-of-type {\n",
       "        vertical-align: middle;\n",
       "    }\n",
       "\n",
       "    .dataframe tbody tr th {\n",
       "        vertical-align: top;\n",
       "    }\n",
       "\n",
       "    .dataframe thead th {\n",
       "        text-align: right;\n",
       "    }\n",
       "</style>\n",
       "<table border=\"1\" class=\"dataframe\">\n",
       "  <thead>\n",
       "    <tr style=\"text-align: right;\">\n",
       "      <th></th>\n",
       "      <th>Measurement</th>\n",
       "      <th>Station</th>\n",
       "      <th>Values</th>\n",
       "      <th>Year</th>\n",
       "      <th>coeff_1</th>\n",
       "      <th>coeff_2</th>\n",
       "      <th>coeff_3</th>\n",
       "      <th>coeff_4</th>\n",
       "      <th>coeff_5</th>\n",
       "      <th>dist_coast</th>\n",
       "      <th>...</th>\n",
       "      <th>latitude</th>\n",
       "      <th>longitude</th>\n",
       "      <th>name</th>\n",
       "      <th>res_1</th>\n",
       "      <th>res_2</th>\n",
       "      <th>res_3</th>\n",
       "      <th>res_4</th>\n",
       "      <th>res_5</th>\n",
       "      <th>res_mean</th>\n",
       "      <th>total_var</th>\n",
       "    </tr>\n",
       "  </thead>\n",
       "  <tbody>\n",
       "  </tbody>\n",
       "</table>\n",
       "<p>0 rows × 21 columns</p>\n",
       "</div>"
      ],
      "text/plain": [
       "Empty DataFrame\n",
       "Columns: [Measurement, Station, Values, Year, coeff_1, coeff_2, coeff_3, coeff_4, coeff_5, dist_coast, elevation, latitude, longitude, name, res_1, res_2, res_3, res_4, res_5, res_mean, total_var]\n",
       "Index: []\n",
       "\n",
       "[0 rows x 21 columns]"
      ]
     },
     "execution_count": 30,
     "metadata": {},
     "output_type": "execute_result"
    }
   ],
   "source": [
    "tmp=df.filter(df.Station=='USC00306411').toPandas()\n",
    "tmp.head(1)"
   ]
  },
  {
   "cell_type": "code",
   "execution_count": 57,
   "metadata": {
    "ExecuteTime": {
     "end_time": "2019-05-07T03:15:01.816254Z",
     "start_time": "2019-05-07T03:15:01.577013Z"
    },
    "scrolled": true,
    "slideshow": {
     "slide_type": "subslide"
    }
   },
   "outputs": [
    {
     "name": "stdout",
     "output_type": "stream",
     "text": [
      "SELECT station, year, coeff_1 FROM weather\n"
     ]
    },
    {
     "data": {
      "text/html": [
       "<div>\n",
       "<style scoped>\n",
       "    .dataframe tbody tr th:only-of-type {\n",
       "        vertical-align: middle;\n",
       "    }\n",
       "\n",
       "    .dataframe tbody tr th {\n",
       "        vertical-align: top;\n",
       "    }\n",
       "\n",
       "    .dataframe thead th {\n",
       "        text-align: right;\n",
       "    }\n",
       "</style>\n",
       "<table border=\"1\" class=\"dataframe\">\n",
       "  <thead>\n",
       "    <tr style=\"text-align: right;\">\n",
       "      <th></th>\n",
       "      <th>station</th>\n",
       "      <th>year</th>\n",
       "      <th>coeff_1</th>\n",
       "    </tr>\n",
       "  </thead>\n",
       "  <tbody>\n",
       "    <tr>\n",
       "      <th>0</th>\n",
       "      <td>USC00454486</td>\n",
       "      <td>1924</td>\n",
       "      <td>124.610931</td>\n",
       "    </tr>\n",
       "    <tr>\n",
       "      <th>1</th>\n",
       "      <td>USC00454486</td>\n",
       "      <td>1925</td>\n",
       "      <td>-204.001132</td>\n",
       "    </tr>\n",
       "    <tr>\n",
       "      <th>2</th>\n",
       "      <td>USC00454486</td>\n",
       "      <td>1926</td>\n",
       "      <td>-532.205568</td>\n",
       "    </tr>\n",
       "    <tr>\n",
       "      <th>3</th>\n",
       "      <td>USC00454486</td>\n",
       "      <td>1927</td>\n",
       "      <td>-279.739552</td>\n",
       "    </tr>\n",
       "    <tr>\n",
       "      <th>4</th>\n",
       "      <td>USC00454486</td>\n",
       "      <td>1928</td>\n",
       "      <td>-311.950681</td>\n",
       "    </tr>\n",
       "  </tbody>\n",
       "</table>\n",
       "</div>"
      ],
      "text/plain": [
       "       station  year     coeff_1\n",
       "0  USC00454486  1924  124.610931\n",
       "1  USC00454486  1925 -204.001132\n",
       "2  USC00454486  1926 -532.205568\n",
       "3  USC00454486  1927 -279.739552\n",
       "4  USC00454486  1928 -311.950681"
      ]
     },
     "execution_count": 57,
     "metadata": {},
     "output_type": "execute_result"
    }
   ],
   "source": [
    "#extract longitude and latitude for each station\n",
    "feature='coeff_1'\n",
    "sqlContext.registerDataFrameAsTable(df,'weather')\n",
    "Features='station, year, coeff_1'\n",
    "Query=\"SELECT %s FROM weather\"%Features\n",
    "print(Query)\n",
    "pdf = sqlContext.sql(Query).toPandas()\n",
    "pdf.head()"
   ]
  },
  {
   "cell_type": "code",
   "execution_count": 64,
   "metadata": {
    "ExecuteTime": {
     "end_time": "2019-05-07T03:15:46.675768Z",
     "start_time": "2019-05-07T03:15:46.639546Z"
    },
    "slideshow": {
     "slide_type": "subslide"
    }
   },
   "outputs": [
    {
     "data": {
      "text/html": [
       "<div>\n",
       "<style scoped>\n",
       "    .dataframe tbody tr th:only-of-type {\n",
       "        vertical-align: middle;\n",
       "    }\n",
       "\n",
       "    .dataframe tbody tr th {\n",
       "        vertical-align: top;\n",
       "    }\n",
       "\n",
       "    .dataframe thead th {\n",
       "        text-align: right;\n",
       "    }\n",
       "</style>\n",
       "<table border=\"1\" class=\"dataframe\">\n",
       "  <thead>\n",
       "    <tr style=\"text-align: right;\">\n",
       "      <th>station</th>\n",
       "      <th>USC00450008</th>\n",
       "      <th>USC00450013</th>\n",
       "      <th>USC00450094</th>\n",
       "      <th>USC00450158</th>\n",
       "      <th>USC00450176</th>\n",
       "      <th>USC00450184</th>\n",
       "      <th>USC00450217</th>\n",
       "      <th>USC00450257</th>\n",
       "      <th>USC00450456</th>\n",
       "      <th>USC00450482</th>\n",
       "      <th>...</th>\n",
       "      <th>USW00024219</th>\n",
       "      <th>USW00024237</th>\n",
       "      <th>USW00024239</th>\n",
       "      <th>USW00024240</th>\n",
       "      <th>USW00024243</th>\n",
       "      <th>USW00024244</th>\n",
       "      <th>USW00094103</th>\n",
       "      <th>USW00094197</th>\n",
       "      <th>USW00094227</th>\n",
       "      <th>USW00094290</th>\n",
       "    </tr>\n",
       "    <tr>\n",
       "      <th>year</th>\n",
       "      <th></th>\n",
       "      <th></th>\n",
       "      <th></th>\n",
       "      <th></th>\n",
       "      <th></th>\n",
       "      <th></th>\n",
       "      <th></th>\n",
       "      <th></th>\n",
       "      <th></th>\n",
       "      <th></th>\n",
       "      <th></th>\n",
       "      <th></th>\n",
       "      <th></th>\n",
       "      <th></th>\n",
       "      <th></th>\n",
       "      <th></th>\n",
       "      <th></th>\n",
       "      <th></th>\n",
       "      <th></th>\n",
       "      <th></th>\n",
       "      <th></th>\n",
       "    </tr>\n",
       "  </thead>\n",
       "  <tbody>\n",
       "    <tr>\n",
       "      <th>2009</th>\n",
       "      <td>535.816951</td>\n",
       "      <td>NaN</td>\n",
       "      <td>NaN</td>\n",
       "      <td>NaN</td>\n",
       "      <td>241.864408</td>\n",
       "      <td>NaN</td>\n",
       "      <td>NaN</td>\n",
       "      <td>NaN</td>\n",
       "      <td>-118.269259</td>\n",
       "      <td>NaN</td>\n",
       "      <td>...</td>\n",
       "      <td>NaN</td>\n",
       "      <td>NaN</td>\n",
       "      <td>NaN</td>\n",
       "      <td>NaN</td>\n",
       "      <td>NaN</td>\n",
       "      <td>NaN</td>\n",
       "      <td>NaN</td>\n",
       "      <td>-185.674770</td>\n",
       "      <td>NaN</td>\n",
       "      <td>NaN</td>\n",
       "    </tr>\n",
       "    <tr>\n",
       "      <th>2010</th>\n",
       "      <td>511.074258</td>\n",
       "      <td>NaN</td>\n",
       "      <td>NaN</td>\n",
       "      <td>NaN</td>\n",
       "      <td>231.568371</td>\n",
       "      <td>NaN</td>\n",
       "      <td>512.341737</td>\n",
       "      <td>NaN</td>\n",
       "      <td>-38.402246</td>\n",
       "      <td>NaN</td>\n",
       "      <td>...</td>\n",
       "      <td>NaN</td>\n",
       "      <td>NaN</td>\n",
       "      <td>NaN</td>\n",
       "      <td>NaN</td>\n",
       "      <td>NaN</td>\n",
       "      <td>NaN</td>\n",
       "      <td>NaN</td>\n",
       "      <td>23.001837</td>\n",
       "      <td>NaN</td>\n",
       "      <td>NaN</td>\n",
       "    </tr>\n",
       "    <tr>\n",
       "      <th>2011</th>\n",
       "      <td>567.899423</td>\n",
       "      <td>NaN</td>\n",
       "      <td>NaN</td>\n",
       "      <td>NaN</td>\n",
       "      <td>313.188432</td>\n",
       "      <td>NaN</td>\n",
       "      <td>NaN</td>\n",
       "      <td>903.757341</td>\n",
       "      <td>154.109659</td>\n",
       "      <td>NaN</td>\n",
       "      <td>...</td>\n",
       "      <td>NaN</td>\n",
       "      <td>NaN</td>\n",
       "      <td>NaN</td>\n",
       "      <td>NaN</td>\n",
       "      <td>NaN</td>\n",
       "      <td>NaN</td>\n",
       "      <td>NaN</td>\n",
       "      <td>208.953880</td>\n",
       "      <td>NaN</td>\n",
       "      <td>NaN</td>\n",
       "    </tr>\n",
       "    <tr>\n",
       "      <th>2012</th>\n",
       "      <td>518.046016</td>\n",
       "      <td>NaN</td>\n",
       "      <td>NaN</td>\n",
       "      <td>NaN</td>\n",
       "      <td>261.686741</td>\n",
       "      <td>NaN</td>\n",
       "      <td>NaN</td>\n",
       "      <td>914.879674</td>\n",
       "      <td>-44.556097</td>\n",
       "      <td>NaN</td>\n",
       "      <td>...</td>\n",
       "      <td>NaN</td>\n",
       "      <td>NaN</td>\n",
       "      <td>NaN</td>\n",
       "      <td>NaN</td>\n",
       "      <td>NaN</td>\n",
       "      <td>NaN</td>\n",
       "      <td>NaN</td>\n",
       "      <td>NaN</td>\n",
       "      <td>NaN</td>\n",
       "      <td>-31.918008</td>\n",
       "    </tr>\n",
       "    <tr>\n",
       "      <th>2013</th>\n",
       "      <td>-17.483920</td>\n",
       "      <td>NaN</td>\n",
       "      <td>NaN</td>\n",
       "      <td>NaN</td>\n",
       "      <td>NaN</td>\n",
       "      <td>NaN</td>\n",
       "      <td>NaN</td>\n",
       "      <td>25.773667</td>\n",
       "      <td>32.660967</td>\n",
       "      <td>NaN</td>\n",
       "      <td>...</td>\n",
       "      <td>NaN</td>\n",
       "      <td>NaN</td>\n",
       "      <td>NaN</td>\n",
       "      <td>NaN</td>\n",
       "      <td>NaN</td>\n",
       "      <td>NaN</td>\n",
       "      <td>NaN</td>\n",
       "      <td>NaN</td>\n",
       "      <td>NaN</td>\n",
       "      <td>-54.988062</td>\n",
       "    </tr>\n",
       "  </tbody>\n",
       "</table>\n",
       "<p>5 rows × 264 columns</p>\n",
       "</div>"
      ],
      "text/plain": [
       "station  USC00450008  USC00450013  USC00450094  USC00450158  USC00450176  \\\n",
       "year                                                                       \n",
       "2009      535.816951          NaN          NaN          NaN   241.864408   \n",
       "2010      511.074258          NaN          NaN          NaN   231.568371   \n",
       "2011      567.899423          NaN          NaN          NaN   313.188432   \n",
       "2012      518.046016          NaN          NaN          NaN   261.686741   \n",
       "2013      -17.483920          NaN          NaN          NaN          NaN   \n",
       "\n",
       "station  USC00450184  USC00450217  USC00450257  USC00450456  USC00450482  \\\n",
       "year                                                                       \n",
       "2009             NaN          NaN          NaN  -118.269259          NaN   \n",
       "2010             NaN   512.341737          NaN   -38.402246          NaN   \n",
       "2011             NaN          NaN   903.757341   154.109659          NaN   \n",
       "2012             NaN          NaN   914.879674   -44.556097          NaN   \n",
       "2013             NaN          NaN    25.773667    32.660967          NaN   \n",
       "\n",
       "station     ...       USW00024219  USW00024237  USW00024239  USW00024240  \\\n",
       "year        ...                                                            \n",
       "2009        ...               NaN          NaN          NaN          NaN   \n",
       "2010        ...               NaN          NaN          NaN          NaN   \n",
       "2011        ...               NaN          NaN          NaN          NaN   \n",
       "2012        ...               NaN          NaN          NaN          NaN   \n",
       "2013        ...               NaN          NaN          NaN          NaN   \n",
       "\n",
       "station  USW00024243  USW00024244  USW00094103  USW00094197  USW00094227  \\\n",
       "year                                                                       \n",
       "2009             NaN          NaN          NaN  -185.674770          NaN   \n",
       "2010             NaN          NaN          NaN    23.001837          NaN   \n",
       "2011             NaN          NaN          NaN   208.953880          NaN   \n",
       "2012             NaN          NaN          NaN          NaN          NaN   \n",
       "2013             NaN          NaN          NaN          NaN          NaN   \n",
       "\n",
       "station  USW00094290  \n",
       "year                  \n",
       "2009             NaN  \n",
       "2010             NaN  \n",
       "2011             NaN  \n",
       "2012      -31.918008  \n",
       "2013      -54.988062  \n",
       "\n",
       "[5 rows x 264 columns]"
      ]
     },
     "execution_count": 64,
     "metadata": {},
     "output_type": "execute_result"
    }
   ],
   "source": [
    "year_station_table=pdf.pivot(index='year', columns='station', values='coeff_1')\n",
    "year_station_table.tail(5)"
   ]
  },
  {
   "cell_type": "code",
   "execution_count": 60,
   "metadata": {
    "ExecuteTime": {
     "end_time": "2019-05-07T03:15:14.117379Z",
     "start_time": "2019-05-07T03:15:13.924709Z"
    },
    "scrolled": true,
    "slideshow": {
     "slide_type": "subslide"
    }
   },
   "outputs": [
    {
     "data": {
      "text/plain": [
       "Text(0,0.5,'Number of stations')"
      ]
     },
     "execution_count": 60,
     "metadata": {},
     "output_type": "execute_result"
    },
    {
     "data": {
      "image/png": "[encoded data removed]",
      "text/plain": [
       "<Figure size 432x288 with 1 Axes>"
      ]
     },
     "metadata": {},
     "output_type": "display_data"
    }
   ],
   "source": [
    "station_nulls=pd.isnull(year_station_table).mean()\n",
    "station_nulls.hist();\n",
    "xlabel('Fraction of years that are undefined')\n",
    "ylabel('Number of stations')"
   ]
  },
  {
   "cell_type": "code",
   "execution_count": 61,
   "metadata": {
    "ExecuteTime": {
     "end_time": "2019-05-07T03:15:18.944997Z",
     "start_time": "2019-05-07T03:15:18.763853Z"
    },
    "scrolled": true,
    "slideshow": {
     "slide_type": "subslide"
    }
   },
   "outputs": [
    {
     "data": {
      "text/plain": [
       "Text(0,0.5,'fraction of stations that are undefined')"
      ]
     },
     "execution_count": 61,
     "metadata": {},
     "output_type": "execute_result"
    },
    {
     "data": {
      "image/png": "[encoded data removed]",
      "text/plain": [
       "<Figure size 432x288 with 1 Axes>"
      ]
     },
     "metadata": {},
     "output_type": "display_data"
    }
   ],
   "source": [
    "year_nulls=pd.isnull(year_station_table).mean(axis=1)\n",
    "year_nulls.plot();\n",
    "grid()\n",
    "ylabel('fraction of stations that are undefined')"
   ]
  },
  {
   "cell_type": "code",
   "execution_count": 65,
   "metadata": {
    "ExecuteTime": {
     "end_time": "2019-05-07T03:15:52.346288Z",
     "start_time": "2019-05-07T03:15:52.308441Z"
    },
    "slideshow": {
     "slide_type": "subslide"
    }
   },
   "outputs": [
    {
     "data": {
      "text/html": [
       "<div>\n",
       "<style scoped>\n",
       "    .dataframe tbody tr th:only-of-type {\n",
       "        vertical-align: middle;\n",
       "    }\n",
       "\n",
       "    .dataframe tbody tr th {\n",
       "        vertical-align: top;\n",
       "    }\n",
       "\n",
       "    .dataframe thead th {\n",
       "        text-align: right;\n",
       "    }\n",
       "</style>\n",
       "<table border=\"1\" class=\"dataframe\">\n",
       "  <thead>\n",
       "    <tr style=\"text-align: right;\">\n",
       "      <th>station</th>\n",
       "      <th>USC00450008</th>\n",
       "      <th>USC00450013</th>\n",
       "      <th>USC00450158</th>\n",
       "      <th>USC00450176</th>\n",
       "      <th>USC00450184</th>\n",
       "      <th>USC00450217</th>\n",
       "      <th>USC00450257</th>\n",
       "      <th>USC00450456</th>\n",
       "      <th>USC00450482</th>\n",
       "      <th>USC00450564</th>\n",
       "      <th>...</th>\n",
       "      <th>USC00459342</th>\n",
       "      <th>USC00459376</th>\n",
       "      <th>USC00459455</th>\n",
       "      <th>USC00459463</th>\n",
       "      <th>USW00024141</th>\n",
       "      <th>USW00024219</th>\n",
       "      <th>USW00024239</th>\n",
       "      <th>USW00094197</th>\n",
       "      <th>USW00094227</th>\n",
       "      <th>USW00094290</th>\n",
       "    </tr>\n",
       "    <tr>\n",
       "      <th>year</th>\n",
       "      <th></th>\n",
       "      <th></th>\n",
       "      <th></th>\n",
       "      <th></th>\n",
       "      <th></th>\n",
       "      <th></th>\n",
       "      <th></th>\n",
       "      <th></th>\n",
       "      <th></th>\n",
       "      <th></th>\n",
       "      <th></th>\n",
       "      <th></th>\n",
       "      <th></th>\n",
       "      <th></th>\n",
       "      <th></th>\n",
       "      <th></th>\n",
       "      <th></th>\n",
       "      <th></th>\n",
       "      <th></th>\n",
       "      <th></th>\n",
       "      <th></th>\n",
       "    </tr>\n",
       "  </thead>\n",
       "  <tbody>\n",
       "    <tr>\n",
       "      <th>2009</th>\n",
       "      <td>535.816951</td>\n",
       "      <td>NaN</td>\n",
       "      <td>NaN</td>\n",
       "      <td>241.864408</td>\n",
       "      <td>NaN</td>\n",
       "      <td>NaN</td>\n",
       "      <td>NaN</td>\n",
       "      <td>-118.269259</td>\n",
       "      <td>NaN</td>\n",
       "      <td>NaN</td>\n",
       "      <td>...</td>\n",
       "      <td>NaN</td>\n",
       "      <td>-942.632481</td>\n",
       "      <td>-713.572378</td>\n",
       "      <td>NaN</td>\n",
       "      <td>NaN</td>\n",
       "      <td>NaN</td>\n",
       "      <td>NaN</td>\n",
       "      <td>-185.674770</td>\n",
       "      <td>NaN</td>\n",
       "      <td>NaN</td>\n",
       "    </tr>\n",
       "    <tr>\n",
       "      <th>2010</th>\n",
       "      <td>511.074258</td>\n",
       "      <td>NaN</td>\n",
       "      <td>NaN</td>\n",
       "      <td>231.568371</td>\n",
       "      <td>NaN</td>\n",
       "      <td>512.341737</td>\n",
       "      <td>NaN</td>\n",
       "      <td>-38.402246</td>\n",
       "      <td>NaN</td>\n",
       "      <td>NaN</td>\n",
       "      <td>...</td>\n",
       "      <td>NaN</td>\n",
       "      <td>-840.579065</td>\n",
       "      <td>-644.390066</td>\n",
       "      <td>NaN</td>\n",
       "      <td>NaN</td>\n",
       "      <td>NaN</td>\n",
       "      <td>NaN</td>\n",
       "      <td>23.001837</td>\n",
       "      <td>NaN</td>\n",
       "      <td>NaN</td>\n",
       "    </tr>\n",
       "    <tr>\n",
       "      <th>2011</th>\n",
       "      <td>567.899423</td>\n",
       "      <td>NaN</td>\n",
       "      <td>NaN</td>\n",
       "      <td>313.188432</td>\n",
       "      <td>NaN</td>\n",
       "      <td>NaN</td>\n",
       "      <td>903.757341</td>\n",
       "      <td>154.109659</td>\n",
       "      <td>NaN</td>\n",
       "      <td>NaN</td>\n",
       "      <td>...</td>\n",
       "      <td>NaN</td>\n",
       "      <td>-719.882749</td>\n",
       "      <td>-350.997654</td>\n",
       "      <td>NaN</td>\n",
       "      <td>NaN</td>\n",
       "      <td>NaN</td>\n",
       "      <td>NaN</td>\n",
       "      <td>208.953880</td>\n",
       "      <td>NaN</td>\n",
       "      <td>NaN</td>\n",
       "    </tr>\n",
       "    <tr>\n",
       "      <th>2012</th>\n",
       "      <td>518.046016</td>\n",
       "      <td>NaN</td>\n",
       "      <td>NaN</td>\n",
       "      <td>261.686741</td>\n",
       "      <td>NaN</td>\n",
       "      <td>NaN</td>\n",
       "      <td>914.879674</td>\n",
       "      <td>-44.556097</td>\n",
       "      <td>NaN</td>\n",
       "      <td>NaN</td>\n",
       "      <td>...</td>\n",
       "      <td>NaN</td>\n",
       "      <td>-872.382660</td>\n",
       "      <td>-663.717894</td>\n",
       "      <td>NaN</td>\n",
       "      <td>NaN</td>\n",
       "      <td>NaN</td>\n",
       "      <td>NaN</td>\n",
       "      <td>NaN</td>\n",
       "      <td>NaN</td>\n",
       "      <td>-31.918008</td>\n",
       "    </tr>\n",
       "    <tr>\n",
       "      <th>2013</th>\n",
       "      <td>-17.483920</td>\n",
       "      <td>NaN</td>\n",
       "      <td>NaN</td>\n",
       "      <td>NaN</td>\n",
       "      <td>NaN</td>\n",
       "      <td>NaN</td>\n",
       "      <td>25.773667</td>\n",
       "      <td>32.660967</td>\n",
       "      <td>NaN</td>\n",
       "      <td>NaN</td>\n",
       "      <td>...</td>\n",
       "      <td>NaN</td>\n",
       "      <td>120.253544</td>\n",
       "      <td>60.611724</td>\n",
       "      <td>NaN</td>\n",
       "      <td>NaN</td>\n",
       "      <td>NaN</td>\n",
       "      <td>NaN</td>\n",
       "      <td>NaN</td>\n",
       "      <td>NaN</td>\n",
       "      <td>-54.988062</td>\n",
       "    </tr>\n",
       "  </tbody>\n",
       "</table>\n",
       "<p>5 rows × 223 columns</p>\n",
       "</div>"
      ],
      "text/plain": [
       "station  USC00450008  USC00450013  USC00450158  USC00450176  USC00450184  \\\n",
       "year                                                                       \n",
       "2009      535.816951          NaN          NaN   241.864408          NaN   \n",
       "2010      511.074258          NaN          NaN   231.568371          NaN   \n",
       "2011      567.899423          NaN          NaN   313.188432          NaN   \n",
       "2012      518.046016          NaN          NaN   261.686741          NaN   \n",
       "2013      -17.483920          NaN          NaN          NaN          NaN   \n",
       "\n",
       "station  USC00450217  USC00450257  USC00450456  USC00450482  USC00450564  \\\n",
       "year                                                                       \n",
       "2009             NaN          NaN  -118.269259          NaN          NaN   \n",
       "2010      512.341737          NaN   -38.402246          NaN          NaN   \n",
       "2011             NaN   903.757341   154.109659          NaN          NaN   \n",
       "2012             NaN   914.879674   -44.556097          NaN          NaN   \n",
       "2013             NaN    25.773667    32.660967          NaN          NaN   \n",
       "\n",
       "station     ...       USC00459342  USC00459376  USC00459455  USC00459463  \\\n",
       "year        ...                                                            \n",
       "2009        ...               NaN  -942.632481  -713.572378          NaN   \n",
       "2010        ...               NaN  -840.579065  -644.390066          NaN   \n",
       "2011        ...               NaN  -719.882749  -350.997654          NaN   \n",
       "2012        ...               NaN  -872.382660  -663.717894          NaN   \n",
       "2013        ...               NaN   120.253544    60.611724          NaN   \n",
       "\n",
       "station  USW00024141  USW00024219  USW00024239  USW00094197  USW00094227  \\\n",
       "year                                                                       \n",
       "2009             NaN          NaN          NaN  -185.674770          NaN   \n",
       "2010             NaN          NaN          NaN    23.001837          NaN   \n",
       "2011             NaN          NaN          NaN   208.953880          NaN   \n",
       "2012             NaN          NaN          NaN          NaN          NaN   \n",
       "2013             NaN          NaN          NaN          NaN          NaN   \n",
       "\n",
       "station  USW00094290  \n",
       "year                  \n",
       "2009             NaN  \n",
       "2010             NaN  \n",
       "2011             NaN  \n",
       "2012      -31.918008  \n",
       "2013      -54.988062  \n",
       "\n",
       "[5 rows x 223 columns]"
      ]
     },
     "execution_count": 65,
     "metadata": {},
     "output_type": "execute_result"
    }
   ],
   "source": [
    "pdf2=pdf[pdf['year']>1960]\n",
    "year_station_table=pdf2.pivot(index='year', columns='station', values='coeff_1')\n",
    "year_station_table.tail(5)"
   ]
  },
  {
   "cell_type": "code",
   "execution_count": 66,
   "metadata": {
    "ExecuteTime": {
     "end_time": "2019-05-07T03:15:54.442847Z",
     "start_time": "2019-05-07T03:15:54.252325Z"
    },
    "slideshow": {
     "slide_type": "subslide"
    }
   },
   "outputs": [
    {
     "data": {
      "text/plain": [
       "Text(0,0.5,'Number of stations')"
      ]
     },
     "execution_count": 66,
     "metadata": {},
     "output_type": "execute_result"
    },
    {
     "data": {
      "image/png": "[encoded data removed]",
      "text/plain": [
       "<Figure size 432x288 with 1 Axes>"
      ]
     },
     "metadata": {},
     "output_type": "display_data"
    }
   ],
   "source": [
    "station_nulls=pd.isnull(year_station_table).mean()\n",
    "station_nulls.hist();\n",
    "xlabel('Fraction of years that are undefined')\n",
    "ylabel('Number of stations')"
   ]
  },
  {
   "cell_type": "code",
   "execution_count": 67,
   "metadata": {
    "ExecuteTime": {
     "end_time": "2019-05-07T03:16:21.911844Z",
     "start_time": "2019-05-07T03:16:21.745523Z"
    }
   },
   "outputs": [
    {
     "data": {
      "text/plain": [
       "Text(0,0.5,'fraction of stations that are undefined')"
      ]
     },
     "execution_count": 67,
     "metadata": {},
     "output_type": "execute_result"
    },
    {
     "data": {
      "image/png": "[encoded data removed]",
      "text/plain": [
       "<Figure size 432x288 with 1 Axes>"
      ]
     },
     "metadata": {},
     "output_type": "display_data"
    }
   ],
   "source": [
    "year_nulls=pd.isnull(year_station_table).mean(axis=1)\n",
    "year_nulls.plot();\n",
    "grid()\n",
    "ylabel('fraction of stations that are undefined')"
   ]
  },
  {
   "cell_type": "markdown",
   "metadata": {
    "slideshow": {
     "slide_type": "slide"
    }
   },
   "source": [
    "### Estimating the effect of the year vs the effect of the station\n",
    "\n",
    "To estimate the effect of time vs. location on the second eigenvector coefficient we\n",
    "compute:\n",
    "\n",
    "* The average row: `mean-by-station`\n",
    "* The average column: `mean-by-year`\n",
    "\n",
    "We then compute the RMS before and after subtracting either  the row or the column vector."
   ]
  },
  {
   "cell_type": "code",
   "execution_count": 68,
   "metadata": {
    "ExecuteTime": {
     "end_time": "2019-05-07T03:16:48.392916Z",
     "start_time": "2019-05-07T03:16:48.361760Z"
    },
    "hide_input": true,
    "slideshow": {
     "slide_type": "subslide"
    }
   },
   "outputs": [
    {
     "name": "stdout",
     "output_type": "stream",
     "text": [
      "total RMS                   =  672.0107306222479\n",
      "RMS removing mean-by-station=  356.5333333098241 reduction= 315.4773973124238\n",
      "RMS removing mean-by-year   =  655.0461207687267 reduction= 16.96460985352121\n"
     ]
    }
   ],
   "source": [
    "def RMS(Mat):\n",
    "    return np.sqrt(np.nanmean(Mat**2))\n",
    "\n",
    "mean_by_year=np.nanmean(year_station_table,axis=1)\n",
    "mean_by_station=np.nanmean(year_station_table,axis=0)\n",
    "tbl_minus_year = (year_station_table.transpose()-mean_by_year).transpose()\n",
    "tbl_minus_station = year_station_table-mean_by_station\n",
    "\n",
    "print('total RMS                   = ',RMS(year_station_table))\n",
    "print('RMS removing mean-by-station= ',RMS(tbl_minus_station),'reduction=',RMS(year_station_table)-RMS(tbl_minus_station))\n",
    "print('RMS removing mean-by-year   = ',RMS(tbl_minus_year),'reduction=',RMS(year_station_table)-RMS(tbl_minus_year))"
   ]
  },
  {
   "cell_type": "code",
   "execution_count": null,
   "metadata": {
    "slideshow": {
     "slide_type": "subslide"
    }
   },
   "outputs": [],
   "source": [
    "### Conclusion Of Analysis\n",
    "The effect of time is about four times as large as the effect of location."
   ]
  },
  {
   "cell_type": "markdown",
   "metadata": {
    "slideshow": {
     "slide_type": "slide"
    }
   },
   "source": [
    "### Iterative reduction\n",
    "* After removing one component, the other component can have an effect.\n",
    "* We can use **alternating minimization** to remove the combined effect of location and time."
   ]
  },
  {
   "cell_type": "code",
   "execution_count": 69,
   "metadata": {
    "ExecuteTime": {
     "end_time": "2019-05-07T03:17:37.856038Z",
     "start_time": "2019-05-07T03:17:37.813818Z"
    },
    "slideshow": {
     "slide_type": "subslide"
    }
   },
   "outputs": [
    {
     "name": "stdout",
     "output_type": "stream",
     "text": [
      "initial RMS= 672.0107306222479\n",
      "0 after removing mean by year    = 655.0461207687267\n",
      "0 after removing mean by stations= 340.9757451331049\n",
      "1 after removing mean by year    = 340.25928088352936\n",
      "1 after removing mean by stations= 340.19617341471644\n",
      "2 after removing mean by year    = 340.1857965091708\n",
      "2 after removing mean by stations= 340.18354374991776\n",
      "3 after removing mean by year    = 340.18300281016485\n",
      "3 after removing mean by stations= 340.18286888593167\n",
      "4 after removing mean by year    = 340.1828354392231\n",
      "4 after removing mean by stations= 340.18282706562456\n"
     ]
    }
   ],
   "source": [
    "T=year_station_table\n",
    "print('initial RMS=',RMS(T))\n",
    "for i in range(5):\n",
    "    mean_by_year=np.nanmean(T,axis=1)\n",
    "    T=(T.transpose()-mean_by_year).transpose()\n",
    "    print(i,'after removing mean by year    =',RMS(T))\n",
    "    mean_by_station=np.nanmean(T,axis=0)\n",
    "    T=T-mean_by_station\n",
    "    print(i,'after removing mean by stations=',RMS(T))"
   ]
  },
  {
   "cell_type": "code",
   "execution_count": 70,
   "metadata": {
    "ExecuteTime": {
     "end_time": "2019-05-07T03:17:42.036842Z",
     "start_time": "2019-05-07T03:17:42.027211Z"
    },
    "slideshow": {
     "slide_type": "skip"
    }
   },
   "outputs": [
    {
     "data": {
      "text/plain": [
       "year\n",
       "1961    0.278621\n",
       "1962    0.254761\n",
       "1963    0.248498\n",
       "1964    0.236219\n",
       "1965    0.220411\n",
       "Name: mean_by_year, dtype: float64"
      ]
     },
     "execution_count": 70,
     "metadata": {},
     "output_type": "execute_result"
    }
   ],
   "source": [
    "T['mean_by_year']=mean_by_year\n",
    "T['mean_by_year'].head()"
   ]
  },
  {
   "cell_type": "code",
   "execution_count": 71,
   "metadata": {
    "ExecuteTime": {
     "end_time": "2019-05-07T03:17:44.182544Z",
     "start_time": "2019-05-07T03:17:43.897295Z"
    },
    "slideshow": {
     "slide_type": "slide"
    }
   },
   "outputs": [
    {
     "data": {
      "image/png": "[encoded data removed]",
      "text/plain": [
       "<Figure size 720x432 with 1 Axes>"
      ]
     },
     "metadata": {},
     "output_type": "display_data"
    }
   ],
   "source": [
    "figure(figsize=(10,6))\n",
    "T['mean_by_year'].plot();\n",
    "grid()\n",
    "title('A graph showing that in NY state, Snow season has been getting earlier ');"
   ]
  },
  {
   "cell_type": "markdown",
   "metadata": {
    "slideshow": {
     "slide_type": "slide"
    }
   },
   "source": [
    "## Summary\n",
    "* The problem of missing data is prevalent and needs to be addressed.\n",
    "* RMS can be used to quantify the effect of different factors (here, time vs. space)\n",
    "* The snow season in NY has been getting earlier and earlier since 1960."
   ]
  }
 ],
 "metadata": {
  "anaconda-cloud": {},
  "celltoolbar": "Slideshow",
  "hide_input": false,
  "kernelspec": {
   "display_name": "Python 3",
   "language": "python",
   "name": "python3"
  },
  "language_info": {
   "codemirror_mode": {
    "name": "ipython",
    "version": 3
   },
   "file_extension": ".py",
   "mimetype": "text/x-python",
   "name": "python",
   "nbconvert_exporter": "python",
   "pygments_lexer": "ipython3",
   "version": "3.6.5"
  },
  "toc": {
   "base_numbering": 1,
   "nav_menu": {
    "height": "174px",
    "width": "252px"
   },
   "number_sections": true,
   "sideBar": true,
   "skip_h1_title": false,
   "title_cell": "Table of Contents",
   "title_sidebar": "Contents",
   "toc_cell": false,
   "toc_position": {},
   "toc_section_display": "block",
   "toc_window_display": false
  },
  "varInspector": {
   "cols": {
    "lenName": 16,
    "lenType": 16,
    "lenVar": 40
   },
   "kernels_config": {
    "python": {
     "delete_cmd_postfix": "",
     "delete_cmd_prefix": "del ",
     "library": "var_list.py",
     "varRefreshCmd": "print(var_dic_list())"
    },
    "r": {
     "delete_cmd_postfix": ") ",
     "delete_cmd_prefix": "rm(",
     "library": "var_list.r",
     "varRefreshCmd": "cat(var_dic_list()) "
    }
   },
   "types_to_exclude": [
    "module",
    "function",
    "builtin_function_or_method",
    "instance",
    "_Feature"
   ],
   "window_display": false
  },
  "widgets": {
   "state": {},
   "version": "1.0.0"
  }
 },
 "nbformat": 4,
 "nbformat_minor": 1
}
