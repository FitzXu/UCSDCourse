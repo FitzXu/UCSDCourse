{
 "cells": [
  {
   "cell_type": "code",
   "execution_count": 9,
   "metadata": {},
   "outputs": [
    {
     "name": "stdout",
     "output_type": "stream",
     "text": [
      "---Fifteen Most Words---\n",
      "THREE 0.03562714868653127\n",
      "SEVEN 0.023332724928853858\n",
      "EIGHT 0.021626496097709325\n",
      "WOULD 0.02085818430793947\n",
      "ABOUT 0.020541544349751077\n",
      "THEIR 0.018974130893766185\n",
      "WHICH 0.018545160072784138\n",
      "AFTER 0.01436452108630337\n",
      "FIRST 0.014345603577470525\n",
      "FIFTY 0.013942725872119989\n",
      "OTHER 0.013836135494765265\n",
      "FORTY 0.012387837111638222\n",
      "YEARS 0.011598389898206841\n",
      "THERE 0.01128553344178502\n",
      "SIXTY 0.009535207245223231\n",
      "---Fourteen Least Words---\n",
      "CCAIR 9.13259047102901e-07\n",
      "CLEFT 9.13259047102901e-07\n",
      "FABRI 9.13259047102901e-07\n",
      "FOAMY 9.13259047102901e-07\n",
      "NIAID 9.13259047102901e-07\n",
      "PAXON 9.13259047102901e-07\n",
      "SERNA 9.13259047102901e-07\n",
      "TOCOR 9.13259047102901e-07\n",
      "YALOM 9.13259047102901e-07\n",
      "BOSAK 7.827934689453437e-07\n",
      "CAIXA 7.827934689453437e-07\n",
      "MAPCO 7.827934689453437e-07\n",
      "OTTIS 7.827934689453437e-07\n",
      "TROUP 7.827934689453437e-07\n"
     ]
    }
   ],
   "source": [
    "import numpy as np\n",
    "words = []\n",
    "values = [] \n",
    "with open('./hw1_word_counts_05.txt') as f:\n",
    "    data = f.readlines()\n",
    "for i in range(len(data)):\n",
    "    (word,count) = data[i].split(' ')\n",
    "    words.append(word)\n",
    "    values.append(int(count))\n",
    "total = sum(values)\n",
    "for i, item  in  enumerate(values):\n",
    "    values[i] =values[i]/total \n",
    "index = range(len(data))\n",
    "sortIndex = sorted(index, key=lambda i: values[i], reverse=True)    \n",
    "fifteen_most = sortIndex[0:15]\n",
    "fourteen_least = sortIndex[-14:]\n",
    "print('---Fifteen Most Words---')\n",
    "for item in fifteen_most:\n",
    "    print(words[item],values[item])\n",
    "print('---Fourteen Least Words---')    \n",
    "for item in fourteen_least:\n",
    "    print(words[item],values[item])"
   ]
  },
  {
   "cell_type": "code",
   "execution_count": 12,
   "metadata": {},
   "outputs": [
    {
     "name": "stdout",
     "output_type": "stream",
     "text": [
      "('E', 0.5394172389647948)\n",
      "('E', 0.6213518619180538)\n",
      "('T', 0.9816379183888309)\n",
      "('O', 0.9913461538461539)\n",
      "('T', 0.7044929785381732)\n",
      "('I', 0.6365554141009618)\n",
      "('A', 0.8206845238095241)\n",
      "('E', 0.7520746887966806)\n",
      "('Y', 0.6269651101630528)\n"
     ]
    }
   ],
   "source": [
    "\"\"\"\n",
    "Definition Of Functions\n",
    "\"\"\"\n",
    "def guessNext(words,values,evidence,wrong_guess):\n",
    "    sum_p = 0\n",
    "    checks = [0]*len(words)\n",
    "    #calculate the denominator of P(W|E)\n",
    "    for i in range(len(words)):\n",
    "        if isInWord(evidence,wrong_guess,words[i])==1:\n",
    "            sum_p += values[i]\n",
    "            checks[i] = 1\n",
    "    prediction = [0]*26\n",
    "    chars = 'ABCDEFGHIJKLMNOPQRSTUVWXYZ'\n",
    "    #calculate pwe\n",
    "    for i in range(len(chars)):\n",
    "        if not chars[i] in wrong_guess and not chars[i] in evidence:\n",
    "            for j in range(len(words)):\n",
    "                if chars[i] in words[j] and checks[j]==1:\n",
    "                    prediction[i] += values[j]/sum_p\n",
    "    \n",
    "    maxP = max(prediction)\n",
    "    best = chars[prediction.index(maxP)]\n",
    "    return (best, maxP)\n",
    "        \n",
    "\n",
    "def isInWord(evidence,wrong_guess,w):\n",
    "    \"\"\"\n",
    "    is the evidence match the word\n",
    "    \"\"\"    \n",
    "    for i in range(5):\n",
    "        if(evidence[i]!='$' and w[i]!=evidence[i]) or (evidence[i]=='$' and w[i] in evidence):\n",
    "            return 0\n",
    "        if w[i] in wrong_guess:\n",
    "            return 0\n",
    "    return 1\n",
    "\n",
    "                \n",
    "                \n",
    "#Test Stage\n",
    "print(guessNext(words,values,['$','$','$','$','$'],\"\"))\n",
    "print(guessNext(words,values,['$','$','$','$','$'],\"AI\"))\n",
    "print(guessNext(words,values,['A','$','$','$','R'],\"\"))\n",
    "print(guessNext(words,values,['A','$','$','$','R'],\"E\"))\n",
    "print(guessNext(words,values,['$','$','U','$','$'],\"ODLC\"))\n",
    "print(guessNext(words,values,['$','$','$','$','$'],\"EO\"))\n",
    "print(guessNext(words,values,['D','$','$','I','$'],\"\"))\n",
    "print(guessNext(words,values,['D','$','$','I','$'],\"A\"))\n",
    "print(guessNext(words,values,['$','U','$','$','$'],\"AIEOS\"))"
   ]
  },
  {
   "cell_type": "code",
   "execution_count": null,
   "metadata": {},
   "outputs": [],
   "source": []
  }
 ],
 "metadata": {
  "kernelspec": {
   "display_name": "Python 3",
   "language": "python",
   "name": "python3"
  },
  "language_info": {
   "codemirror_mode": {
    "name": "ipython",
    "version": 3
   },
   "file_extension": ".py",
   "mimetype": "text/x-python",
   "name": "python",
   "nbconvert_exporter": "python",
   "pygments_lexer": "ipython3",
   "version": "3.7.0"
  }
 },
 "nbformat": 4,
 "nbformat_minor": 2
}
