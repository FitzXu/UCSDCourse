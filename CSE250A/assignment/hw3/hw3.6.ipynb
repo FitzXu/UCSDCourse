{
 "cells": [
  {
   "cell_type": "code",
   "execution_count": 1,
   "metadata": {},
   "outputs": [
    {
     "name": "stdout",
     "output_type": "stream",
     "text": [
      "P(B2=1|Z=128)\n",
      "0.18275721737284864\n",
      "P(B4=1|Z=128)\n",
      "0.16260044562880985\n",
      "P(B6=1|Z=128)\n",
      "0.16709001349622635\n",
      "P(B8=1|Z=128)\n",
      "0.8301950571156074\n",
      "P(B10=1|Z=128)\n",
      "3.47705072362223e-269\n"
     ]
    }
   ],
   "source": [
    "\"\"\"\n",
    "HW3 Problem6\n",
    "By Guanghao Chen\n",
    "\"\"\"\n",
    "import numpy as np\n",
    "import matplotlib.pyplot as plt\n",
    "n = 10\n",
    "a = 0.2\n",
    "Z = 128\n",
    "B = np.zeros((1,n))\n",
    "\n",
    "\"\"\"\n",
    "This functions is used to calcuculate the Probability of Z give Bxs\n",
    "\"\"\"\n",
    "def prob(Z,B,n,a):\n",
    "    fB = 0\n",
    "    for i in range(n):\n",
    "        fB = fB + (2**(i))*B[i]\n",
    "    prob = ((1-a)/(1+a))*a**(abs((Z-fB)));\n",
    "    return prob\n",
    "\n",
    "ip = [2,4,6,8,10]\n",
    "probBgivenZ = np.zeros((len(ip),10))\n",
    "row = 0 \n",
    "for i in ip:\n",
    "    nSamp = 10\n",
    "    for ns in range(1,nSamp+1):\n",
    "        iter = ns*100000\n",
    "        numer = 0\n",
    "        denom = 0\n",
    "        for k in range(1,iter+1):\n",
    "            B =  np.random.randint(0,2,10)\n",
    "            weight = prob(Z,B,n,a)\n",
    "            if(B[i-1] == 1):\n",
    "                numer = numer + weight\n",
    "            denom = denom + weight\n",
    "        probBgivenZ[row][ns-1] = (numer/denom)\n",
    "    print(\"P(B{}=1|Z=128)\".format(i))\n",
    "    print(probBgivenZ[row][nSamp-1])\n",
    "    row += 1"
   ]
  },
  {
   "cell_type": "code",
   "execution_count": 2,
   "metadata": {},
   "outputs": [
    {
     "data": {
      "image/png": "[encoded data removed]",
      "text/plain": [
       "<Figure size 432x288 with 1 Axes>"
      ]
     },
     "metadata": {
      "needs_background": "light"
     },
     "output_type": "display_data"
    }
   ],
   "source": [
    "for i in range(len(ip)):\n",
    "    plt.plot(range(1,nSamp+1),probBgivenZ[i,:],label=\"Bi={}\".format(ip[i]))\n",
    "plt.xlabel('Samples (Unit: Million)')\n",
    "plt.ylabel('Probability')\n",
    "plt.title('Likelyhood Weighting')\n",
    "plt.legend(loc='upper right')\n",
    "plt.show()"
   ]
  },
  {
   "cell_type": "code",
   "execution_count": null,
   "metadata": {},
   "outputs": [],
   "source": []
  }
 ],
 "metadata": {
  "kernelspec": {
   "display_name": "Python 3",
   "language": "python",
   "name": "python3"
  },
  "language_info": {
   "codemirror_mode": {
    "name": "ipython",
    "version": 3
   },
   "file_extension": ".py",
   "mimetype": "text/x-python",
   "name": "python",
   "nbconvert_exporter": "python",
   "pygments_lexer": "ipython3",
   "version": "3.7.0"
  }
 },
 "nbformat": 4,
 "nbformat_minor": 2
}
