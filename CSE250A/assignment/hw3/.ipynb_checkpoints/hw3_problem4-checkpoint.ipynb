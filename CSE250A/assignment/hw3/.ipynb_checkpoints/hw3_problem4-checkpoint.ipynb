{
 "cells": [
  {
   "cell_type": "code",
   "execution_count": 1,
   "metadata": {},
   "outputs": [
    {
     "ename": "SyntaxError",
     "evalue": "invalid syntax (<ipython-input-1-771115984c60>, line 43)",
     "output_type": "error",
     "traceback": [
      "\u001b[0;36m  File \u001b[0;32m\"<ipython-input-1-771115984c60>\"\u001b[0;36m, line \u001b[0;32m43\u001b[0m\n\u001b[0;31m    numerator_keys = list(filter(check(,index),myMap.keys()))\u001b[0m\n\u001b[0m                                       ^\u001b[0m\n\u001b[0;31mSyntaxError\u001b[0m\u001b[0;31m:\u001b[0m invalid syntax\n"
     ]
    }
   ],
   "source": [
    "import numpy as np\n",
    "from functools import reduce\n",
    "import matplotlib.pyplot as plt\n",
    "#definition \n",
    "def sampleFun():\n",
    "    samples = np.random.rand(10)\n",
    "    Bs = list(map(lambda x: int(x>0.5), samples))\n",
    "    return Bs\n",
    "\n",
    "def convert(Bs):\n",
    "    binaryStr = reduce((lambda x, y: str(x)+str(y)), Bs)\n",
    "    return int(binaryStr,2)\n",
    "\n",
    "def convertStr(Bs):\n",
    "    \"\"\"\n",
    "    convert the list of Bi into a string\n",
    "    \"\"\"\n",
    "    return reduce((lambda x, y: str(x)+str(y)), Bs)\n",
    "\n",
    "def calProb(Z,alpha,Bs):\n",
    "    decimal = convert(Bs)\n",
    "    return (1-alpha)/(1+alpha)*(alpha**abs(Z-decimal))\n",
    "\n",
    "def check(Bs,index):\n",
    "    if(Bs[index]=='1'):\n",
    "        return True\n",
    "    else:\n",
    "        return False\n",
    "\n",
    "#start sample\n",
    "myMap = dict()\n",
    "alpha = 0.2\n",
    "times = [10,50,100,300,500,800,1000,1100,1200,1500,1700,2000,5000,6000,7000,8000,9000,10000]\n",
    "Z = 128\n",
    "def game(N_times):\n",
    "    index = 1\n",
    "    for i in range(N_times):\n",
    "        Bs = sampleFun()\n",
    "        key = convertStr(Bs)\n",
    "        weight = calProb(Z,alpha,Bs)\n",
    "        if(key not in myMap.keys()):\n",
    "            myMap[key] = weight\n",
    "        else:\n",
    "            myMap[key] += weight\n",
    "\n",
    "    numerator_keys = list(filter(check(,index),myMap.keys()))\n",
    "    numerator = 0\n",
    "    for i in numerator_keys:\n",
    "        numerator += myMap[i]\n",
    "    denominator = 0\n",
    "    for i in myMap.keys():\n",
    "        denominator += myMap[i]\n",
    "    return numerator/denominator\n",
    "\n",
    "estimate = []\n",
    "for i in times:\n",
    "    estimate.append(game(i))\n",
    "plt.plot(times,estimate)\n",
    "print(estimate)"
   ]
  },
  {
   "cell_type": "code",
   "execution_count": null,
   "metadata": {},
   "outputs": [],
   "source": []
  }
 ],
 "metadata": {
  "kernelspec": {
   "display_name": "Python 3",
   "language": "python",
   "name": "python3"
  },
  "language_info": {
   "codemirror_mode": {
    "name": "ipython",
    "version": 3
   },
   "file_extension": ".py",
   "mimetype": "text/x-python",
   "name": "python",
   "nbconvert_exporter": "python",
   "pygments_lexer": "ipython3",
   "version": "3.7.0"
  }
 },
 "nbformat": 4,
 "nbformat_minor": 2
}
