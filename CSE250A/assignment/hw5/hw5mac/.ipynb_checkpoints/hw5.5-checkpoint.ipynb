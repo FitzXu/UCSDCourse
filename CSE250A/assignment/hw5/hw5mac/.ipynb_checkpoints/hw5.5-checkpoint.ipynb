{
 "cells": [
  {
   "cell_type": "code",
   "execution_count": 1,
   "metadata": {},
   "outputs": [],
   "source": [
    "import numpy as np\n",
    "import math\n",
    "import matplotlib.pyplot as plt"
   ]
  },
  {
   "cell_type": "code",
   "execution_count": 2,
   "metadata": {},
   "outputs": [],
   "source": [
    "# read train files\n",
    "with open(\"./new_train3.txt\") as f:\n",
    "    train3data = f.readlines()\n",
    "size_train3 = len(train3data)\n",
    "train3 = np.zeros((size_train3,64))\n",
    "for index,image in enumerate(train3data):\n",
    "    seperate = image.strip(\"\\n\").split(\" \")[:-1]\n",
    "    image_list = np.array(list(map(int,seperate)))\n",
    "    train3[index,:] = image_list\n",
    "with open(\"./new_train5.txt\") as f:\n",
    "    train5data = f.readlines()\n",
    "size_train5 = len(train5data)\n",
    "train_y = np.zeros((size_train3,1))      #label 3 is zero\n",
    "train5 = np.zeros((size_train5,64))\n",
    "for index,image in enumerate(train5data):\n",
    "    seperate = image.strip(\"\\n\").split(\" \")[:-1]\n",
    "    image_list = np.array(list(map(int,seperate)))\n",
    "    train5[index,:] = image_list\n",
    "train_x = np.vstack((train3,train5))\n",
    "train_y = np.vstack((train_y, np.ones((size_train5,1))))    #label 5 is one\n",
    "\n",
    "#read test files\n",
    "with open(\"./new_test3.txt\",\"r\") as f:\n",
    "    test3data = f.readlines()\n",
    "with open(\"./new_test5.txt\",\"r\") as f:\n",
    "    test5data = f.readlines()\n",
    "test_x = []\n",
    "test_y = []\n",
    "for index,data in enumerate(test3data):\n",
    "    test_x.append(np.array(data.strip(\"\\n\").split(\" \")[:-1]).astype(int))\n",
    "    test_y.append(0)\n",
    "for index,data in enumerate(test5data):\n",
    "    test_x.append(np.array(data.strip(\"\\n\").split(\" \")[:-1]).astype(int))\n",
    "    test_y.append(1) \n",
    "test_x = np.array(test_x)\n",
    "test_y = np.array(test_y)"
   ]
  },
  {
   "cell_type": "code",
   "execution_count": 3,
   "metadata": {},
   "outputs": [],
   "source": [
    "def sigmoid(x):\n",
    "    return 1.0 / (1.0 + np.exp(-x))\n",
    "\n",
    "def predict(train,w):\n",
    "    z = sigmoid(np.dot(train,w))\n",
    "    predict_class = (z >= 0.5).astype(int)\n",
    "    return predict_class\n",
    "\n",
    "def compute_error(pred,ground):\n",
    "    return float(np.sum(pred!=ground))/pred.shape[0] * 100\n",
    "\n",
    "def copute_log_likelihood(train,label,ws):\n",
    "    log_likelihood = 0\n",
    "    for index in range(train.shape[0]):\n",
    "        example = train[index,:].reshape(1,train[index,:].shape[0])\n",
    "        z = sigmoid(np.sum(np.dot(example,ws)))\n",
    "        log_likelihood += label[index] * np.log(z) + (1 - label[index]) * np.log(z)\n",
    "    return log_likelihood\n",
    "\n",
    "def compute_acc(pred,label):    \n",
    "    return float(np.sum(pred.flatten()==label))/pred.shape[0] * 100\n",
    "\n",
    "def trainData(train,label,iterations,eta,method=\"gradient_ascent\"):\n",
    "    ws = np.zeros((64,1))\n",
    "    error_list = []\n",
    "    log_like_list = []\n",
    "    if method == \"gradient_ascent\":    \n",
    "        for iter in range(iterations):\n",
    "            z = sigmoid(np.dot(train,ws))\n",
    "            diff = label - z\n",
    "            gradient = np.dot(train.T, diff)\n",
    "            ws = ws + eta/train.shape[0] * gradient\n",
    "            error_list.append(compute_error(predict(train,ws),label))\n",
    "            log_like_list.append(copute_log_likelihood(train,label,ws))     \n",
    "    \n",
    "    elif method == \"Newton_method\":\n",
    "        for iter in range(iterations):\n",
    "            z = sigmoid(np.dot(train,ws))\n",
    "            diff = label - z\n",
    "            gradient = np.dot(train.T, diff)\n",
    "            hessian = np.zeros((train.shape[1],train.shape[1]))\n",
    "            print\n",
    "            for t in range(train.shape[0]):\n",
    "                product = np.sum(ws * train[t])\n",
    "                hessian = hessian - sigmoid(product) * sigmoid(-product)*np.dot(train[t].reshape([64, 1]),train[t].reshape([1, 64]))\n",
    "            \n",
    "            ws = ws - np.dot(np.linalg.inv(hessian),gradient)\n",
    "            error_list.append(compute_error(predict(train,ws),label))\n",
    "            log_like_list.append(copute_log_likelihood(train,label,ws))\n",
    "            \n",
    "    return ws,error_list,log_like_list\n",
    "\n",
    "    \n",
    "def testData(test,label,model):\n",
    "    pred_label = predict(test,model)\n",
    "    acc = compute_acc(pred_label,label)\n",
    "    print(\"The accuracy of the model is {}%\".format(acc))"
   ]
  },
  {
   "cell_type": "code",
   "execution_count": 4,
   "metadata": {},
   "outputs": [],
   "source": [
    "#training process\n",
    "times = 10000\n",
    "(model,errs,log_likes) = trainData(train_x,train_y,times,0.001)"
   ]
  },
  {
   "cell_type": "code",
   "execution_count": null,
   "metadata": {},
   "outputs": [],
   "source": [
    "#test process\n",
    "testData(test_x,test_y,model)"
   ]
  },
  {
   "cell_type": "code",
   "execution_count": 5,
   "metadata": {},
   "outputs": [
    {
     "data": {
      "text/plain": [
       "[<matplotlib.lines.Line2D at 0x24a31f2fb70>]"
      ]
     },
     "execution_count": 5,
     "metadata": {},
     "output_type": "execute_result"
    },
    {
     "data": {
      "image/png": "[encoded data removed]",
      "text/plain": [
       "<Figure size 432x288 with 1 Axes>"
      ]
     },
     "metadata": {
      "needs_background": "light"
     },
     "output_type": "display_data"
    },
    {
     "data": {
      "image/png": "[encoded data removed]",
      "text/plain": [
       "<Figure size 432x288 with 1 Axes>"
      ]
     },
     "metadata": {
      "needs_background": "light"
     },
     "output_type": "display_data"
    }
   ],
   "source": [
    "# training process\n",
    "plt.figure()\n",
    "\n",
    "plt.title(\"Relative Error\")\n",
    "plt.xlabel(\"Iterations\")\n",
    "plt.ylabel(\"Error\")\n",
    "plt.plot(range(times),errs)\n",
    "plt.figure()\n",
    "plt.title(\"Log-likelihood Probability\")\n",
    "plt.xlabel(\"Iterations\")\n",
    "plt.ylabel(\"Prob\")\n",
    "plt.plot(range(times),log_likes)"
   ]
  },
  {
   "cell_type": "code",
   "execution_count": null,
   "metadata": {},
   "outputs": [],
   "source": []
  }
 ],
 "metadata": {
  "kernelspec": {
   "display_name": "Python 3",
   "language": "python",
   "name": "python3"
  },
  "language_info": {
   "codemirror_mode": {
    "name": "ipython",
    "version": 3
   },
   "file_extension": ".py",
   "mimetype": "text/x-python",
   "name": "python",
   "nbconvert_exporter": "python",
   "pygments_lexer": "ipython3",
   "version": "3.7.0"
  }
 },
 "nbformat": 4,
 "nbformat_minor": 2
}
