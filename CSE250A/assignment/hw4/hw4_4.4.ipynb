{
 "cells": [
  {
   "cell_type": "code",
   "execution_count": 8,
   "metadata": {},
   "outputs": [
    {
     "data": {
      "text/plain": [
       "array([[0.66666667, 0.        , 0.        , 0.33333333],\n",
       "       [0.        , 0.75      , 0.25      , 0.        ],\n",
       "       [0.        , 0.25      , 0.5       , 0.25      ],\n",
       "       [0.25      , 0.        , 0.25      , 0.5       ]])"
      ]
     },
     "execution_count": 8,
     "metadata": {},
     "output_type": "execute_result"
    }
   ],
   "source": [
    "import numpy as np\n",
    "unig = np.array([0.25,0.25,0.25,0.25])\n",
    "bi = np.array([[ 2/3,0 ,0,1/3],[ 0 ,3/4,1/4,0],[ 0 ,1/4,2/4,1/4],[ 1/4,0,1/4,2/4]])\n",
    "bi"
   ]
  },
  {
   "cell_type": "code",
   "execution_count": 18,
   "metadata": {},
   "outputs": [],
   "source": [
    "def bigram(s):\n",
    "    res = unig[ord(s[0])-97]\n",
    "    for i in range(1,len(s)):\n",
    "        pre = ord(s[i-1]) - 97\n",
    "        second = ord(s[i]) - 97\n",
    "        res *= bi[pre][second]\n",
    "    return res"
   ]
  },
  {
   "cell_type": "code",
   "execution_count": 19,
   "metadata": {},
   "outputs": [],
   "source": [
    "S  = \"aaddccbbbbccddaa\"\n",
    "T1 = \"bcbcbcbcbcbcbcbc\"\n",
    "T2 = \"aaaabbbbccccdddd\"\n",
    "T3 = \"babababababababa\""
   ]
  },
  {
   "cell_type": "code",
   "execution_count": 20,
   "metadata": {},
   "outputs": [],
   "source": [
    "bS = bigram(S)\n",
    "bT1 = bigram(T1)\n",
    "bT2 = bigram(T2)\n",
    "bT3 = bigram(T3)"
   ]
  },
  {
   "cell_type": "code",
   "execution_count": 22,
   "metadata": {},
   "outputs": [
    {
     "name": "stdout",
     "output_type": "stream",
     "text": [
      "9.5367431640625e-07\n",
      "2.3283064365386963e-10\n",
      "0.0\n",
      "0.0\n"
     ]
    }
   ],
   "source": [
    "print(bS)\n",
    "print(bT1)\n",
    "print(bT2)\n",
    "print(bT3)"
   ]
  },
  {
   "cell_type": "code",
   "execution_count": 23,
   "metadata": {},
   "outputs": [
    {
     "data": {
      "text/plain": [
       "2.3283064365386963e-10"
      ]
     },
     "execution_count": 23,
     "metadata": {},
     "output_type": "execute_result"
    }
   ],
   "source": [
    "0.25**16"
   ]
  },
  {
   "cell_type": "code",
   "execution_count": null,
   "metadata": {},
   "outputs": [],
   "source": []
  }
 ],
 "metadata": {
  "kernelspec": {
   "display_name": "Python 3",
   "language": "python",
   "name": "python3"
  },
  "language_info": {
   "codemirror_mode": {
    "name": "ipython",
    "version": 3
   },
   "file_extension": ".py",
   "mimetype": "text/x-python",
   "name": "python",
   "nbconvert_exporter": "python",
   "pygments_lexer": "ipython3",
   "version": "3.7.0"
  }
 },
 "nbformat": 4,
 "nbformat_minor": 2
}
