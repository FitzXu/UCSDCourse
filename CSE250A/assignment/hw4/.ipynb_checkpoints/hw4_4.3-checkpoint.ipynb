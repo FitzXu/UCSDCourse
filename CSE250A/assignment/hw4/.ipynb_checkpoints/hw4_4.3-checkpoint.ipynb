{
 "cells": [
  {
   "cell_type": "code",
   "execution_count": 2,
   "metadata": {},
   "outputs": [],
   "source": [
    "import numpy as np\n",
    "from functools import reduce\n",
    "import math\n",
    "from matplotlib import pyplot as plt"
   ]
  },
  {
   "cell_type": "markdown",
   "metadata": {},
   "source": [
    "# Preprocessing"
   ]
  },
  {
   "cell_type": "code",
   "execution_count": 3,
   "metadata": {},
   "outputs": [],
   "source": [
    "#vocab\n",
    "vocab = None\n",
    "with open(\"./hw4_vocab.txt\",'r')as f:\n",
    "    vocab = f.readlines()\n",
    "for i in range(len(vocab)):\n",
    "    vocab[i] = vocab[i][:-1]\n",
    "#unigram\n",
    "unigram = None\n",
    "with open(\"./hw4_unigram.txt\",\"r\") as f:\n",
    "    unigram = f.readlines()\n",
    "for i in range(len(unigram)):\n",
    "    unigram[i] = int(unigram[i][:-1])\n",
    "\n",
    "#bigram\n",
    "bigram = []\n",
    "with open(\"./hw4_bigram.txt\",\"r\") as f:\n",
    "    temp = f.readlines()\n",
    "    for i in temp:\n",
    "        bigram.append(i.split(\"\\t\"))\n",
    "for i in range(len(bigram)):\n",
    "    bigram[i][0] = int(bigram[i][0])\n",
    "    bigram[i][1] = int(bigram[i][1])\n",
    "    bigram[i][2] = int(bigram[i][2])"
   ]
  },
  {
   "cell_type": "markdown",
   "metadata": {},
   "source": [
    "# Problem (a)"
   ]
  },
  {
   "cell_type": "code",
   "execution_count": 5,
   "metadata": {},
   "outputs": [
    {
     "name": "stdout",
     "output_type": "stream",
     "text": [
      "Word Starting With A\t\t\tProb\n",
      "\t\t\t0.018407244690712494\n",
      "AN\t\t\t0.017863233925020615\n",
      "A\t\t\t0.004312974000612439\n",
      "A\t\t\t0.003991797167406474\n",
      "A\t\t\t0.002999256673943544\n",
      "AR\t\t\t0.0029896926709136874\n",
      "ABOU\t\t\t0.0019256178376532746\n",
      "AFTE\t\t\t0.0013465675979453587\n",
      "ALS\t\t\t0.0013100115812493978\n",
      "AL\t\t\t0.001181814804064031\n",
      "A\t\t\t0.0010256109080316418\n",
      "AN\t\t\t0.0006318601694814718\n",
      "AMERICA\t\t\t0.0006120961939108219\n",
      "AGAINS\t\t\t0.000595964582662253\n",
      "ANOTHE\t\t\t0.0004283866165304179\n",
      "AMON\t\t\t0.00037429251755208585\n",
      "AG\t\t\t0.0003565709825261751\n",
      "ACCORDIN\t\t\t0.0003475451075440342\n",
      "AI\t\t\t0.00031100132103097604\n",
      "ADMINISTRATIO\t\t\t0.0002915186396670866\n",
      "AGENC\t\t\t0.0002796553622515356\n",
      "AROUN\t\t\t0.00027685465036683335\n",
      "AGREEMEN\t\t\t0.00026278994002880895\n",
      "AVERAG\t\t\t0.00025907196442640943\n",
      "ASKE\t\t\t0.00025822808180612795\n",
      "ALREAD\t\t\t0.0002490799049949608\n",
      "ARE\t\t\t0.0002310893059451922\n",
      "ANALYST\t\t\t0.00022603824040640604\n",
      "ANNOUNCE\t\t\t0.00022715118705054536\n",
      "ADDE\t\t\t0.00022121954834276986\n",
      "ALTHOUG\t\t\t0.00021426057427117345\n",
      "AGREE\t\t\t0.00021177784714193957\n",
      "APRI\t\t\t0.00020669009105444552\n",
      "AWA\t\t\t0.00020205485173434878\n"
     ]
    }
   ],
   "source": [
    "unig = np.zeros((len(unigram),))\n",
    "for i in range(len(unigram)):\n",
    "    unig[i] = int(unigram[i])\n",
    "unig = unig/np.sum(unig)\n",
    "\n",
    "print(\"{}\\t\\t\\t{}\".format(\"Word Starting With A\",\"Prob\"))\n",
    "for i in range(len(vocab)):\n",
    "    if vocab[i][0]=='A':\n",
    "        print(\"{}\\t\\t\\t{}\".format(vocab[i][:-1],unig[i]))"
   ]
  },
  {
   "cell_type": "markdown",
   "metadata": {},
   "source": [
    "# Problem (b)"
   ]
  },
  {
   "cell_type": "code",
   "execution_count": 6,
   "metadata": {},
   "outputs": [
    {
     "name": "stdout",
     "output_type": "stream",
     "text": [
      "The <UNK>\t\t0.6150198100055118\n",
      "The U.\t\t0.013372499432610317\n",
      "The FIRST\t\t0.011720260675031612\n",
      "The COMPANY\t\t0.011658788055636611\n",
      "The NEW\t\t0.009451480076516552\n"
     ]
    }
   ],
   "source": [
    "prob = []\n",
    "index_the = 0\n",
    "#find \"The\" index\n",
    "for i in range(len(vocab)):\n",
    "    if(vocab[i]==\"THE\"):\n",
    "        index_the = i\n",
    "        break\n",
    "#The Bigram\n",
    "bigram_the = []\n",
    "for i in range(len(bigram)):\n",
    "    if(bigram[i][0]==(index_the+1)):\n",
    "        bigram_the.append(bigram[i])\n",
    "\n",
    "#calculate the ML prob\n",
    "prob_the_w = np.zeros((len(vocab),))\n",
    "for i in range(len(bigram_the)):\n",
    "    w_index = bigram_the[i][1] -1 \n",
    "    count_the_w = bigram_the[i][2]\n",
    "    prob_the_w[w_index] = count_the_w/unigram[index_the]\n",
    "#search 5 max\n",
    "max_prob = []\n",
    "for i in range(prob_the_w.shape[0]):\n",
    "    if(len(max_prob)<5):\n",
    "        max_prob.append((i,prob_the_w[i]))\n",
    "        max_prob = sorted(max_prob,key = lambda x: x[1])\n",
    "    else:\n",
    "        if(prob_the_w[i]>max_prob[0][1]):\n",
    "            max_prob[0] = (i,prob_the_w[i])\n",
    "            max_prob = sorted(max_prob,key = lambda x: x[1])\n",
    "#print_out\n",
    "for i in max_prob[::-1]:\n",
    "    print(\"The {}\\t\\t{}\".format(vocab[i[0]],i[1]))"
   ]
  },
  {
   "cell_type": "markdown",
   "metadata": {},
   "source": [
    "# Problem (c)"
   ]
  },
  {
   "cell_type": "code",
   "execution_count": 7,
   "metadata": {},
   "outputs": [
    {
     "name": "stdout",
     "output_type": "stream",
     "text": [
      "Log-likelihoods of this sentence under unigram model: -64.50944034364878\n",
      "Log-likelihoods of this sentence under bigram model: -44.740469213403735\n"
     ]
    }
   ],
   "source": [
    "index_last = vocab.index(\"LAST\")\n",
    "index_week = vocab.index(\"WEEK\")\n",
    "index_stock = vocab.index(\"STOCK\")\n",
    "index_market = vocab.index(\"MARKET\")\n",
    "index_fell = vocab.index(\"FELL\")\n",
    "index_by = vocab.index(\"BY\")\n",
    "index_one = vocab.index(\"ONE\")\n",
    "index_hundred = vocab.index(\"HUNDRED\")\n",
    "index_points = vocab.index(\"POINTS\")\n",
    "index_s = vocab.index(\"<s>\")\n",
    "product_unig = reduce((lambda x, y: x * y), [unig[index_last],unig[index_week],unig[index_the],unig[index_stock],\n",
    "                                        unig[index_market],unig[index_fell],unig[index_by],unig[index_one],\n",
    "                                       unig[index_hundred],unig[index_points]])\n",
    "log_likelihoods_uni = math.log(product_unig)\n",
    "print(\"Log-likelihoods of this sentence under unigram model: {}\".format(log_likelihoods_uni))\n",
    "\n",
    "bi_mat = np.zeros((len(vocab),len(vocab)))\n",
    "for i in range(len(bigram)):\n",
    "    x = bigram[i][0] - 1\n",
    "    y = bigram[i][1] - 1\n",
    "    bi_mat[x,y] = bigram[i][2]\n",
    "\n",
    "P_last_s = bi_mat[index_s,index_last]/unigram[index_s]\n",
    "P_week_last = bi_mat[index_last,index_week]/unigram[index_last]\n",
    "P_the_week = bi_mat[index_week,index_the]/unigram[index_week]\n",
    "P_stock_the = bi_mat[index_the,index_stock]/unigram[index_the]\n",
    "P_market_stock = bi_mat[index_stock,index_market]/unigram[index_stock]\n",
    "P_fell_market = bi_mat[index_market,index_fell]/unigram[index_market]\n",
    "P_by_fell = bi_mat[index_fell,index_by]/unigram[index_fell]\n",
    "P_one_by = bi_mat[index_by,index_one]/unigram[index_by]\n",
    "P_hundred_one = bi_mat[index_one,index_hundred]/unigram[index_one]\n",
    "P_points_hundred = bi_mat[index_hundred,index_points]/unigram[index_hundred]\n",
    "product_bigr = reduce((lambda x, y: x * y), [P_last_s,P_week_last,P_the_week,P_stock_the,P_market_stock,\n",
    "                                            P_fell_market,P_by_fell,P_one_by,P_hundred_one,P_points_hundred])\n",
    "log_likelihoods_bigr = math.log(product_bigr)\n",
    "print(\"Log-likelihoods of this sentence under bigram model: {}\".format(log_likelihoods_bigr))"
   ]
  },
  {
   "cell_type": "markdown",
   "metadata": {},
   "source": [
    "# Problem (d)"
   ]
  },
  {
   "cell_type": "code",
   "execution_count": 8,
   "metadata": {},
   "outputs": [
    {
     "name": "stdout",
     "output_type": "stream",
     "text": [
      "Log-likelihoods of this sentence under unigram model: -41.64345971649364\n",
      "[0.15865263383617936, 0.006650714911000876, 0.0, 9.162207725573554e-05, 0.0, 0.003052399525182296]\n"
     ]
    }
   ],
   "source": [
    "\"The nineteen officials sold fire insurance\"\n",
    "index_nineteen = vocab.index(\"NINETEEN\")\n",
    "index_officials = vocab.index(\"OFFICIALS\")\n",
    "index_sold = vocab.index(\"SOLD\")\n",
    "index_fire = vocab.index(\"FIRE\")\n",
    "index_insurance = vocab.index(\"INSURANCE\")\n",
    "product_d_unig = reduce((lambda x,y:x*y),[unig[index_the],unig[index_nineteen],unig[index_officials],unig[index_sold],unig[index_fire],unig[index_insurance]])\n",
    "print(\"Log-likelihoods of this sentence under unigram model: {}\".format(math.log(product_d_unig)))\n",
    "\n",
    "P_the_s = bi_mat[index_s,index_the]/unigram[index_s]\n",
    "P_nineteen_the = bi_mat[index_the,index_nineteen]/unigram[index_the]\n",
    "P_officials_nineteen = bi_mat[index_nineteen,index_officials]/unigram[index_nineteen]\n",
    "P_sold_officials = bi_mat[index_officials,index_sold]/unigram[index_officials]\n",
    "P_fire_sold = bi_mat[index_sold,index_fire]/unigram[index_sold]\n",
    "P_insurance_fire = bi_mat[index_fire,index_insurance]/unigram[index_fire]\n",
    "product_d_bigr = reduce((lambda x, y: x * y), [P_the_s,P_nineteen_the,P_officials_nineteen,P_sold_officials,\n",
    "                                              P_fire_sold,P_insurance_fire])\n",
    "print([P_the_s,P_nineteen_the,P_officials_nineteen,P_sold_officials,\n",
    "                                              P_fire_sold,P_insurance_fire])\n",
    "#print(\"Log-likelihoods of this sentence under bigram model: {}\".format(math.log(product_d_bigr)))"
   ]
  },
  {
   "cell_type": "markdown",
   "metadata": {},
   "source": [
    "# Problem (e)"
   ]
  },
  {
   "cell_type": "code",
   "execution_count": 10,
   "metadata": {},
   "outputs": [
    {
     "data": {
      "image/png": "[encoded data removed]",
      "text/plain": [
       "<Figure size 432x288 with 1 Axes>"
      ]
     },
     "metadata": {
      "needs_background": "light"
     },
     "output_type": "display_data"
    },
    {
     "name": "stdout",
     "output_type": "stream",
     "text": [
      "Max Lm:-39.953761679862865, where alpha=0.4081632653061224\n"
     ]
    }
   ],
   "source": [
    "alphas = np.linspace(0,1)[1:-1]\n",
    "res = []\n",
    "max_tuple = (1,-float('Inf'))\n",
    "for alpha in alphas:\n",
    "    Pm_the_s = unig[index_the]*(1-alpha)+P_the_s*alpha\n",
    "    Pm_nineteen_the = unig[index_nineteen]*(1-alpha)+P_nineteen_the*alpha\n",
    "    Pm_officials_nineteen = unig[index_officials]*(1-alpha)+P_officials_nineteen*alpha\n",
    "    Pm_sold_officials = unig[index_sold]*(1-alpha)+P_sold_officials*alpha\n",
    "    Pm_fire_sold = unig[index_fire]*(1-alpha)+P_fire_sold*alpha\n",
    "    Pm_insurance_fire = unig[index_insurance]*(1-alpha)+P_insurance_fire*alpha\n",
    "    prod_alpha = reduce((lambda x,y:x*y),[Pm_the_s,Pm_nineteen_the,Pm_officials_nineteen,Pm_sold_officials,\n",
    "                                     Pm_fire_sold,Pm_insurance_fire])\n",
    "    res.append(math.log(prod_alpha))\n",
    "    if(math.log(prod_alpha)>max_tuple[1]):\n",
    "        max_tuple = (alpha,math.log(prod_alpha))\n",
    "    \n",
    "plt.title(\"Lm as a function of parameter lambda\")\n",
    "plt.plot(alphas,res)\n",
    "plt.xlabel(\"lambda\")\n",
    "plt.ylabel(\"Lm\")\n",
    "plt.show()\n",
    "print(\"Max Lm:{}, where alpha={}\".format(max_tuple[1],max_tuple[0]))"
   ]
  },
  {
   "cell_type": "code",
   "execution_count": null,
   "metadata": {},
   "outputs": [],
   "source": []
  }
 ],
 "metadata": {
  "kernelspec": {
   "display_name": "Python 3",
   "language": "python",
   "name": "python3"
  },
  "language_info": {
   "codemirror_mode": {
    "name": "ipython",
    "version": 3
   },
   "file_extension": ".py",
   "mimetype": "text/x-python",
   "name": "python",
   "nbconvert_exporter": "python",
   "pygments_lexer": "ipython3",
   "version": "3.7.0"
  }
 },
 "nbformat": 4,
 "nbformat_minor": 2
}
