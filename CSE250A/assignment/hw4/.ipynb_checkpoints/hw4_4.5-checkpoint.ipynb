{
 "cells": [
  {
   "cell_type": "code",
   "execution_count": 46,
   "metadata": {},
   "outputs": [],
   "source": [
    "import numpy as np\n",
    "from functools import reduce"
   ]
  },
  {
   "cell_type": "markdown",
   "metadata": {},
   "source": [
    "# Problem(a)"
   ]
  },
  {
   "cell_type": "code",
   "execution_count": 57,
   "metadata": {},
   "outputs": [
    {
     "name": "stdout",
     "output_type": "stream",
     "text": [
      "The coefficient: \n",
      "a1 = 0.9506733661404788\n",
      "a2 = 0.01560133077286545\n",
      "a3 = 0.03189568516025264\n"
     ]
    }
   ],
   "source": [
    "with open(\"hw4_nasdaq00.txt\",\"r\") as f:\n",
    "    price = f.readlines()\n",
    "price = list(map(lambda x:float(x.strip()),price))\n",
    "row_a1 = [np.array([price[i-1],price[i-2],price[i-3]]) * price[i-1] for i in range(3,len(price))]\n",
    "row_a1 = np.sum(row_a1,axis=0)\n",
    "row_a2 = [np.array([price[i-1],price[i-2],price[i-3]]) * price[i-2] for i in range(3,len(price))]\n",
    "row_a2 = np.sum(row_a2,axis=0)\n",
    "row_a3 = [np.array([price[i-1],price[i-2],price[i-3]]) * price[i-3] for i in range(3,len(price))]\n",
    "row_a3 = np.sum(row_a3,axis=0)\n",
    "A = np.vstack((row_a1,row_a2))\n",
    "A = np.vstack((A,row_a3))\n",
    "\n",
    "b1 = reduce(lambda x,y:x+y,[price[i-1]*price[i] for i in range(3,len(price))])\n",
    "b2 = reduce(lambda x,y:x+y,[price[i-2]*price[i] for i in range(3,len(price))])\n",
    "b3 = reduce(lambda x,y:x+y,[price[i-3]*price[i] for i in range(3,len(price))])\n",
    "b = np.zeros((3,))\n",
    "b[0] = b1\n",
    "b[1] = b2\n",
    "b[2] = b3\n",
    "a_vec = np.linalg.solve(A,b)\n",
    "print(\"The coefficient: \\na1 = {}\\na2 = {}\\na3 = {}\".format(a_vec[0],a_vec[1],a_vec[2]))"
   ]
  },
  {
   "cell_type": "markdown",
   "metadata": {},
   "source": [
    "# Problem(b)"
   ]
  },
  {
   "cell_type": "code",
   "execution_count": 65,
   "metadata": {},
   "outputs": [
    {
     "name": "stdout",
     "output_type": "stream",
     "text": [
      "2000's Mean Square Error is 13902.401076367885\n",
      "2001's Mean Square Error is 2985.0979241108607\n"
     ]
    }
   ],
   "source": [
    "with open(\"hw4_nasdaq01.txt\",\"r\") as f:\n",
    "    price_2001=f.readlines()\n",
    "price_2001 = list(map(lambda x:float(x.strip()),price_2001))\n",
    "predict_2000 = [np.sum(np.array(price[i-3:i][::-1] * a_vec)) for i in range(3, len(price))]\n",
    "predict_2001 = [np.sum(np.array(price_2001[i-3:i][::-1] * a_vec)) for i in range(3, len(price_2001))]\n",
    "print (\"2000\\'s Mean Square Error is {}\".format(np.mean(np.square(np.array(predict_2000) - np.array(price[3:])))))\n",
    "print (\"2001\\'s Mean Square Error is {}\".format(np.mean(np.square(np.array(predict_2001) - np.array(price_2001[3:])))))\n"
   ]
  }
 ],
 "metadata": {
  "kernelspec": {
   "display_name": "Python 3",
   "language": "python",
   "name": "python3"
  },
  "language_info": {
   "codemirror_mode": {
    "name": "ipython",
    "version": 3
   },
   "file_extension": ".py",
   "mimetype": "text/x-python",
   "name": "python",
   "nbconvert_exporter": "python",
   "pygments_lexer": "ipython3",
   "version": "3.7.0"
  }
 },
 "nbformat": 4,
 "nbformat_minor": 2
}
