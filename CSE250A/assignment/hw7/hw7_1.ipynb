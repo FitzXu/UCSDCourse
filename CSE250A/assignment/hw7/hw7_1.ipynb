{
 "cells": [
  {
   "cell_type": "code",
   "execution_count": 5,
   "metadata": {},
   "outputs": [],
   "source": [
    "import numpy as np\n",
    "from matplotlib import pyplot as plt"
   ]
  },
  {
   "cell_type": "code",
   "execution_count": 2,
   "metadata": {},
   "outputs": [],
   "source": [
    "with open(\"emissionMatrix.txt\",'r') as f:\n",
    "    emissionF = f.readlines()\n",
    "with open(\"initialStateDistribution.txt\",'r') as f:\n",
    "    initStateF = f.readlines()\n",
    "with open(\"observations.txt\",'r') as f:\n",
    "    obsvF = f.readlines()\n",
    "with open(\"transitionMatrix.txt\",'r') as f:\n",
    "    transF = f.readlines()\n"
   ]
  },
  {
   "cell_type": "code",
   "execution_count": 3,
   "metadata": {},
   "outputs": [],
   "source": [
    "bM = np.zeros((27,2))\n",
    "for index,line in enumerate(emissionF):\n",
    "    item0,item1 = line.strip().split(\"\\t\")\n",
    "    bM[index][0] = float(item0)\n",
    "    bM[index][1] = float(item1)\n",
    "\n",
    "pi = np.zeros((27,))\n",
    "for index,line in enumerate(initStateF):\n",
    "    pi[index] = float(line.strip())\n",
    "\n",
    "obsvM = np.array([int (i) for i in obsvF[0].strip().split(\" \")])\n",
    "\n",
    "aM = np.zeros((27,27))\n",
    "for index,line in enumerate(transF):\n",
    "    items = line.strip().split(\" \")\n",
    "    for j,item in enumerate(items):\n",
    "        aM[index][j] = float(item)\n"
   ]
  },
  {
   "cell_type": "code",
   "execution_count": 7,
   "metadata": {},
   "outputs": [
    {
     "name": "stdout",
     "output_type": "stream",
     "text": [
      "Start forwardrecursion...\n",
      "Start backtracking...\n"
     ]
    },
    {
     "data": {
      "text/plain": [
       "[<matplotlib.lines.Line2D at 0x1f17c852358>]"
      ]
     },
     "execution_count": 7,
     "metadata": {},
     "output_type": "execute_result"
    },
    {
     "data": {
      "image/png": "[encoded data removed]",
      "text/plain": [
       "<Figure size 432x288 with 1 Axes>"
      ]
     },
     "metadata": {
      "needs_background": "light"
     },
     "output_type": "display_data"
    }
   ],
   "source": [
    "print(\"Start forwardrecursion...\")\n",
    "l = []\n",
    "base = [0] * 27\n",
    "for i in range(27):\n",
    "    base[i] = np.log(pi[i]) + np.log(bM[i][obsvM[0]])\n",
    "l.append(base)\n",
    "T = obsvM.shape[0]\n",
    "phi = []\n",
    "for t in range(1,T):\n",
    "    baseline = [0] * 27\n",
    "    phiTmp   = [0] * 27\n",
    "    for j in range(27):\n",
    "        maxTmp = l[t-1][0] + np.log(aM[0,j])\n",
    "        for i in range(1,27):\n",
    "            if (l[t-1][i] + np.log(aM[i,j])) > maxTmp:\n",
    "                maxTmp = l[t-1][i] + np.log(aM[i,j])\n",
    "                phiTmp[j] = i\n",
    "        baseline[j] = maxTmp + np.log(bM[j,obsvM[t]])\n",
    "    phi.append(phiTmp)\n",
    "    l.append(baseline)\n",
    "\n",
    "print(\"Start backtracking...\")\n",
    "maxTmp = l[T-1][0]\n",
    "index = 0\n",
    "for i in range(1, 27):\n",
    "    if l[T-1][i] > maxTmp:\n",
    "        maxTmp = l[T-1][i]\n",
    "        index = i\n",
    "\n",
    "S = [index]\n",
    "i = T-2\n",
    "while (i >= 0):\n",
    "    index = phi[i][index]\n",
    "    S = [index] + S\n",
    "    i -= 1\n",
    "plt.plot(range(T),S)"
   ]
  },
  {
   "cell_type": "code",
   "execution_count": 32,
   "metadata": {},
   "outputs": [
    {
     "name": "stdout",
     "output_type": "stream",
     "text": [
      "The encoded hidden message is: THOSE WHO CANOT REMEMBER THE PAST ARE CONDEMNED TO REPEAT IT\n"
     ]
    }
   ],
   "source": [
    "message = chr(S[0]+65)\n",
    "for index in range(1,T):\n",
    "    if(S[index]!=S[index-1] and S[index]!=26):\n",
    "        message += chr(S[index]+65)\n",
    "    elif(S[index]!=S[index-1] and S[index]==26):\n",
    "        message += ' '\n",
    "print(\"The encoded hidden message is:\",message)"
   ]
  },
  {
   "cell_type": "code",
   "execution_count": null,
   "metadata": {},
   "outputs": [],
   "source": []
  },
  {
   "cell_type": "code",
   "execution_count": null,
   "metadata": {},
   "outputs": [],
   "source": []
  }
 ],
 "metadata": {
  "kernelspec": {
   "display_name": "Python 3",
   "language": "python",
   "name": "python3"
  },
  "language_info": {
   "codemirror_mode": {
    "name": "ipython",
    "version": 3
   },
   "file_extension": ".py",
   "mimetype": "text/x-python",
   "name": "python",
   "nbconvert_exporter": "python",
   "pygments_lexer": "ipython3",
   "version": "3.7.0"
  }
 },
 "nbformat": 4,
 "nbformat_minor": 2
}
