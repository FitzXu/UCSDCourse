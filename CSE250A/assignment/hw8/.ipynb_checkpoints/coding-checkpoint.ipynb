{
 "cells": [
  {
   "cell_type": "code",
   "execution_count": 1,
   "metadata": {},
   "outputs": [],
   "source": [
    "import numpy as np"
   ]
  },
  {
   "cell_type": "code",
   "execution_count": 59,
   "metadata": {},
   "outputs": [],
   "source": [
    "with open('hw8_ratings_fa18.txt') as f:\n",
    "    rating = f.readlines()    \n",
    "\n",
    "with open('hw8_movieTitles_fa18.txt') as f:\n",
    "    movies = f.readlines()\n",
    "for index,item in enumerate(movies):\n",
    "    movies[index] = item.strip()\n",
    "\n",
    "with open('hw8_studentPIDs_fa18.txt') as f:\n",
    "    students = f.readlines()\n",
    "for index,item in enumerate(students):\n",
    "    students[index] = item.strip()\n",
    "ratingM = np.zeros((269,62))\n",
    "for index,item in enumerate(rating):\n",
    "    temp = item.strip().split(' ')\n",
    "    for j,value in enumerate(temp):\n",
    "        if value == '1':\n",
    "            ratingM[index,j] = 1\n",
    "        elif value =='0':\n",
    "            ratingM[index,j] = 0\n",
    "        elif value =='?':\n",
    "            ratingM[index,j] = -1"
   ]
  },
  {
   "cell_type": "code",
   "execution_count": 56,
   "metadata": {},
   "outputs": [
    {
     "name": "stdout",
     "output_type": "stream",
     "text": [
      "The_Last_Airbender\n",
      "Fifty_Shades_of_Grey\n",
      "I_Feel_Pretty\n",
      "Chappaquidick\n",
      "Man_of_Steel\n",
      "Prometheus\n",
      "The_Shape_of_Water\n",
      "Phantom_Thread\n",
      "Magic_Mike\n",
      "World_War_Z\n",
      "Bridemaids\n",
      "American_Hustle\n",
      "Drive\n",
      "The_Hunger_Games\n",
      "Thor\n",
      "Pitch_Perfect\n",
      "Fast_Five\n",
      "Avengers:_Age_of_Ultron\n",
      "Jurassic_World\n",
      "The_Hateful_Eight\n",
      "The_Revenant\n",
      "Dunkirk\n",
      "Star_Wars:_The_Force_Awakens\n",
      "Mad_Max:_Fury_Road\n",
      "Captain_America:_The_First_Avenger\n",
      "The_Perks_of_Being_a_Wallflower\n",
      "Iron_Man_2\n",
      "La_La_Land\n",
      "Manchester_by_the_Sea\n",
      "The_Help\n",
      "Midnight_in_Paris\n",
      "The_Girls_with_the_Dragon_Tattoo\n",
      "21_Jump_Street\n",
      "Frozen\n",
      "Now_You_See_Me\n",
      "X-Men:_First_Class\n",
      "Ex_Machina\n",
      "Harry_Potter_and_the_Deathly_Hallows:_Part_1\n",
      "Toy_Story_3\n",
      "Her\n",
      "The_Great_Gatsby\n",
      "The_Avengers\n",
      "The_Theory_of_Everything\n",
      "Room\n",
      "Gone_Girl\n",
      "Three_Billboards_Outside_Ebbing\n",
      "Les_Miserables\n",
      "Harry_Potter_and_the_Deathly_Hallows:_Part_2\n",
      "The_Martian\n",
      "Avengers:_Infinity_War\n",
      "Darkest_Hour\n",
      "Hidden_Figures\n",
      "12_Years_a_Slave\n",
      "Ready_Player_One\n",
      "Black_Swan\n",
      "Django_Unchained\n",
      "Wolf_of_Wall_Street\n",
      "Shutter_Island\n",
      "Interstellar\n",
      "The_Dark_Knight_Rises\n",
      "The_Social_Network\n",
      "Inception\n"
     ]
    }
   ],
   "source": [
    "popular = []\n",
    "for i in range(len(movies)):\n",
    "    popular.append(np.sum((ratingM[:,i] == 1).astype(np.int64))/(269-np.sum((ratingM[:,i] == -1).astype(np.int64))))\n",
    "index = range(0,62)     \n",
    "combine = list(zip(index,popular))\n",
    "combine = sorted(combine,key=lambda x:x[1])\n",
    "for i in combine:\n",
    "    print(movies[i[0]])"
   ]
  },
  {
   "cell_type": "code",
   "execution_count": 90,
   "metadata": {},
   "outputs": [],
   "source": [
    "with open('hw8_probZ_init.txt') as f:\n",
    "    probZ = f.readlines()\n",
    "for index,item in enumerate(probZ):\n",
    "    probZ[index] = float(item.strip())\n",
    "probZ = np.array(probZ)\n",
    "\n",
    "with open('hw8_probRgivenZ_init.txt') as f:\n",
    "    probRZ = f.readlines()\n",
    "probRZM = []\n",
    "for index,item in enumerate(probRZ[:-1]):\n",
    "    temp = item.strip().split('   ')\n",
    "    probRZM.append(list(map(lambda x:float(x),temp)))\n",
    "probRZM = np.array(probRZM)"
   ]
  },
  {
   "cell_type": "code",
   "execution_count": null,
   "metadata": {},
   "outputs": [],
   "source": [
    "def post(zvalue,student,probZ,probRZM,ratingM):\n",
    "    nume = probZ[zvalue]\n",
    "    for j in range(62):\n",
    "        if(ratingM[student,j]!=-1):\n",
    "            nume *= probRZM[j,zvalue]\n",
    "    demo = 0\n",
    "    for k in range(4):\n",
    "        temp = probZ[k]\n",
    "        for j in range(62):\n",
    "            if(ratingM[student,j]!=-1):\n",
    "                temp *= probRZM[j,zvalue]\n",
    "        demo += temp\n",
    "    return nume/demo\n",
    "for iter in range(128):\n",
    "    "
   ]
  },
  {
   "cell_type": "code",
   "execution_count": null,
   "metadata": {},
   "outputs": [],
   "source": []
  },
  {
   "cell_type": "code",
   "execution_count": null,
   "metadata": {},
   "outputs": [],
   "source": []
  }
 ],
 "metadata": {
  "kernelspec": {
   "display_name": "Python 3",
   "language": "python",
   "name": "python3"
  },
  "language_info": {
   "codemirror_mode": {
    "name": "ipython",
    "version": 3
   },
   "file_extension": ".py",
   "mimetype": "text/x-python",
   "name": "python",
   "nbconvert_exporter": "python",
   "pygments_lexer": "ipython3",
   "version": "3.6.7"
  }
 },
 "nbformat": 4,
 "nbformat_minor": 2
}
