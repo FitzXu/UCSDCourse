{
 "cells": [
  {
   "cell_type": "code",
   "execution_count": 1,
   "metadata": {},
   "outputs": [],
   "source": [
    "from __future__ import print_function\n",
    "import numpy as np\n",
    "import matplotlib.pyplot as plt"
   ]
  },
  {
   "cell_type": "markdown",
   "metadata": {},
   "source": [
    "First, we define some functions for computing the output of the multilayer perceptron."
   ]
  },
  {
   "cell_type": "code",
   "execution_count": 7,
   "metadata": {},
   "outputs": [],
   "source": [
    "def softmax(x):\n",
    "    '''\n",
    "    Input\n",
    "         x: a vector in ndarray format, \n",
    "            typically the raw score of prediction.\n",
    "    Output \n",
    "         a vector in ndarray format,\n",
    "         typically representing the predicted class probability.\n",
    "    '''\n",
    "    res = np.exp(x-np.max(x))\n",
    "    return res/np.sum(res)\n",
    "\n",
    "def cross_entropy(y, p):\n",
    "    '''\n",
    "    Input\n",
    "        y: an int representing the class label\n",
    "        p: a vector in ndarray format showing the predicted\n",
    "           probability of each class.\n",
    "           \n",
    "    Output\n",
    "        the cross entropy loss. \n",
    "    '''\n",
    "    log_likelihood = -np.log(p)\n",
    "    return log_likelihood[y]\n",
    "\n",
    "def relu(x):\n",
    "    '''\n",
    "    Input\n",
    "        x: a vector in ndarray format\n",
    "    Output\n",
    "        a vector in ndarray format,\n",
    "        representing the ReLu activation of x.\n",
    "    '''\n",
    "    return np.maximum(x, 0)"
   ]
  },
  {
   "cell_type": "markdown",
   "metadata": {},
   "source": [
    "Next, we define the structure and some utility functions of our multi-layer perceptron."
   ]
  },
  {
   "cell_type": "code",
   "execution_count": 5,
   "metadata": {},
   "outputs": [],
   "source": [
    "class MultiLayerPerceptron():\n",
    "    '''\n",
    "    This class defines the multi-layer perceptron we will be using\n",
    "    as the attack target.\n",
    "    \n",
    "    '''\n",
    "    def __init__(self):\n",
    "        self.eps = 0.1\n",
    "    \n",
    "    def load_params(self, params):\n",
    "        '''\n",
    "        This method loads the weights and biases of a trained model.\n",
    "        '''\n",
    "        self.W1 = params[\"fc1.weight\"]\n",
    "        self.b1 = params[\"fc1.bias\"]\n",
    "        self.W2 = params[\"fc2.weight\"]\n",
    "        self.b2 = params[\"fc2.bias\"]\n",
    "        self.W3 = params[\"fc3.weight\"]\n",
    "        self.b3 = params[\"fc3.bias\"]\n",
    "        self.W4 = params[\"fc4.weight\"]\n",
    "        self.b4 = params[\"fc4.bias\"]\n",
    "        \n",
    "    def set_attack_budget(self, eps):\n",
    "        '''\n",
    "        This method sets the maximum L_infty norm of the adversarial\n",
    "        perturbation.\n",
    "        '''\n",
    "        self.eps = eps\n",
    "        \n",
    "    def forward(self, x):\n",
    "        '''\n",
    "        This method finds the predicted probability vector of an input\n",
    "        image x.\n",
    "        \n",
    "        Input\n",
    "            x: a single image vector in ndarray format\n",
    "        Ouput\n",
    "            a vector in ndarray format representing the predicted class\n",
    "            probability of x.\n",
    "            \n",
    "        Intermediate results are stored as class attributes.\n",
    "        You might need them for gradient computation.\n",
    "        '''\n",
    "        W1, W2, W3, W4 = self.W1, self.W2, self.W3, self.W4\n",
    "        b1, b2, b3, b4 = self.b1, self.b2, self.b3, self.b4\n",
    "        \n",
    "        self.z1 = np.matmul(x,W1)+b1\n",
    "        self.h1 = relu(self.z1)\n",
    "        self.z2 = np.matmul(self.h1,W2)+b2\n",
    "        self.h2 = relu(self.z2)\n",
    "        self.z3 = np.matmul(self.h2,W3)+b3\n",
    "        self.h3 = relu(self.z3)\n",
    "        self.z4 = np.matmul(self.h3,W4)+b4\n",
    "        self.p = softmax(self.z4)\n",
    "        \n",
    "        return self.p\n",
    "        \n",
    "    def predict(self, x):\n",
    "        '''\n",
    "        This method takes a single image vector x and returns the \n",
    "        predicted class label of it.\n",
    "        '''\n",
    "        res = self.forward(x)\n",
    "        return np.argmax(res)\n",
    "    \n",
    "    def gradient(self,x,y):\n",
    "        ''' \n",
    "        This method finds the gradient of the cross-entropy loss\n",
    "        of an image-label pair (x,y) w.r.t. to the image x.\n",
    "        \n",
    "        Input\n",
    "            x: the input image vector in ndarray format\n",
    "            y: the true label of x\n",
    "            \n",
    "        Output\n",
    "            a vector in ndarray format representing\n",
    "            the gradient of the cross-entropy loss of (x,y)\n",
    "            w.r.t. the image x.\n",
    "        '''        \n",
    "        \n",
    "        label = np.zeros(10)\n",
    "        label[y] = 1\n",
    "        output = self.forward(x)\n",
    "        o_error = output - label\n",
    "\n",
    "        \n",
    "        o_error = np.matmul(o_error, self.W4.T)\n",
    "        o_error = np.matmul(o_error, np.diag((self.h3>0).astype(np.float)))\n",
    "\n",
    "        o_error = np.matmul(o_error, self.W3.T)\n",
    "        o_error = np.matmul(o_error, np.diag((self.h2>0).astype(np.float)))\n",
    "        \n",
    "        o_error = np.matmul(o_error, self.W2.T)\n",
    "        o_error = np.matmul(o_error, np.diag((self.h1>0).astype(np.float)))\n",
    "        \n",
    "        o_error = np.matmul(o_error, self.W1.T)\n",
    "        \n",
    "        \n",
    "        return o_error\n",
    "    \n",
    "    def attack(self,x,y):\n",
    "        '''\n",
    "        This method generates the adversarial example of an\n",
    "        image-label pair (x,y).\n",
    "        \n",
    "        Input\n",
    "            x: an image vector in ndarray format, representing\n",
    "               the image to be corrupted.\n",
    "            y: the true label of the image x.\n",
    "            \n",
    "        Output\n",
    "            a vector in ndarray format, representing\n",
    "            the adversarial example created from image x.\n",
    "        '''\n",
    "        res = x + self.eps * np.sign(self.gradient(x,y))\n",
    "        return res\n",
    "    \n",
    "    def attackMyMethod(self,x,y):\n",
    "        res = x + self.eps * np.sign(self.gradient(x,y))\n",
    "        index = np.random.permutation(len(res))\n",
    "        index = index[:len(index)//2]\n",
    "        res[index] = 0\n",
    "        return res"
   ]
  },
  {
   "cell_type": "markdown",
   "metadata": {},
   "source": [
    "Now, let's load the pre-trained model and the test data."
   ]
  },
  {
   "cell_type": "code",
   "execution_count": 3,
   "metadata": {},
   "outputs": [],
   "source": [
    "X_test = np.load(\"./data/X_test.npy\")\n",
    "Y_test = np.load(\"./data/Y_test.npy\")\n",
    "\n",
    "params = {}\n",
    "param_names = [\"fc1.weight\", \"fc1.bias\",\n",
    "               \"fc2.weight\", \"fc2.bias\",\n",
    "               \"fc3.weight\", \"fc3.bias\",\n",
    "               \"fc4.weight\", \"fc4.bias\"]\n",
    "\n",
    "for name in param_names:\n",
    "    params[name] = np.load(\"./data/\"+name+'.npy')\n",
    "    \n",
    "clf = MultiLayerPerceptron()\n",
    "clf.load_params(params)"
   ]
  },
  {
   "cell_type": "markdown",
   "metadata": {},
   "source": [
    "Check if the image data are loaded correctly. Let's visualize the first image in the data set."
   ]
  },
  {
   "cell_type": "code",
   "execution_count": 6,
   "metadata": {},
   "outputs": [
    {
     "name": "stdout",
     "output_type": "stream",
     "text": [
      "This is an image of Number 7\n"
     ]
    },
    {
     "data": {
      "text/plain": [
       "<matplotlib.image.AxesImage at 0x11eaef198>"
      ]
     },
     "execution_count": 6,
     "metadata": {},
     "output_type": "execute_result"
    },
    {
     "data": {
      "image/png": "[encoded data removed]",
      "text/plain": [
       "<Figure size 432x288 with 1 Axes>"
      ]
     },
     "metadata": {
      "needs_background": "light"
     },
     "output_type": "display_data"
    }
   ],
   "source": [
    "x, y = X_test[0], Y_test[0]\n",
    "print (\"This is an image of Number\", y)\n",
    "pixels = x.reshape((28,28))\n",
    "plt.imshow(pixels,cmap=\"gray\")"
   ]
  },
  {
   "cell_type": "markdown",
   "metadata": {},
   "source": [
    "Check if the model is loaded correctly. The test accuracy should be 97.6%"
   ]
  },
  {
   "cell_type": "code",
   "execution_count": 7,
   "metadata": {
    "scrolled": false
   },
   "outputs": [
    {
     "name": "stdout",
     "output_type": "stream",
     "text": [
      "Test accuracy is 0.976\n"
     ]
    }
   ],
   "source": [
    "nTest = 1000\n",
    "Y_pred = np.zeros(nTest)\n",
    "for i in range(nTest):\n",
    "    x, y = X_test[i], Y_test[i]\n",
    "    Y_pred[i] = clf.predict(x)\n",
    "acc = np.sum(Y_pred == Y_test[:nTest])*1.0/nTest\n",
    "print (\"Test accuracy is\", acc)"
   ]
  },
  {
   "cell_type": "markdown",
   "metadata": {},
   "source": [
    "Have fun!"
   ]
  },
  {
   "cell_type": "code",
   "execution_count": 7,
   "metadata": {},
   "outputs": [
    {
     "name": "stdout",
     "output_type": "stream",
     "text": [
      "Test accuracy is 0.699\n"
     ]
    }
   ],
   "source": [
    "clf = MultiLayerPerceptron()\n",
    "clf.load_params(params)\n",
    "nTest = 1000\n",
    "Y_pred_ad = np.zeros(nTest)\n",
    "clf.set_attack_budget(0.05)\n",
    "for i in range(nTest):\n",
    "    x, y = X_test[i], Y_test[i]\n",
    "    new_x = clf.attack(x,y)\n",
    "    new_x = np.clip(new_x, 0, 1)\n",
    "    Y_pred_ad[i] = clf.predict(new_x)    \n",
    "acc_ad = np.sum(Y_pred_ad == Y_test[:nTest])*1.0/nTest\n",
    "print (\"Test accuracy is\", acc_ad)"
   ]
  },
  {
   "cell_type": "code",
   "execution_count": 6,
   "metadata": {},
   "outputs": [
    {
     "name": "stdout",
     "output_type": "stream",
     "text": [
      "Test accuracy is 0.146\n"
     ]
    }
   ],
   "source": [
    "clf = MultiLayerPerceptron()\n",
    "clf.load_params(params)\n",
    "nTest = 1000\n",
    "Y_pred_ad_2 = np.zeros(nTest)\n",
    "clf.set_attack_budget(0.1)\n",
    "for i in range(nTest):\n",
    "    x, y = X_test[i], Y_test[i]\n",
    "    new_x = clf.attack(x,y)\n",
    "    new_x = np.clip(new_x, 0, 1)\n",
    "    Y_pred_ad_2[i] = clf.predict(new_x)    \n",
    "acc_ad = np.sum(Y_pred_ad_2 == Y_test[:nTest])*1.0/nTest\n",
    "print (\"Test accuracy is\", acc_ad)"
   ]
  },
  {
   "cell_type": "code",
   "execution_count": 10,
   "metadata": {},
   "outputs": [
    {
     "name": "stdout",
     "output_type": "stream",
     "text": [
      "Test accuracy is 0.015\n"
     ]
    }
   ],
   "source": [
    "clf = MultiLayerPerceptron()\n",
    "clf.load_params(params)\n",
    "nTest = 1000\n",
    "Y_pred_ad = np.zeros(nTest)\n",
    "clf.set_attack_budget(0.15)\n",
    "for i in range(nTest):\n",
    "    x, y = X_test[i], Y_test[i]\n",
    "    new_x = clf.attack(x,y)\n",
    "    new_x = np.clip(new_x, 0, 1)\n",
    "    Y_pred_ad[i] = clf.predict(new_x)    \n",
    "acc_ad = np.sum(Y_pred_ad == Y_test[:nTest])*1.0/nTest\n",
    "print (\"Test accuracy is\", acc_ad)"
   ]
  },
  {
   "cell_type": "code",
   "execution_count": 11,
   "metadata": {},
   "outputs": [
    {
     "name": "stdout",
     "output_type": "stream",
     "text": [
      "Test accuracy is 0.003\n"
     ]
    }
   ],
   "source": [
    "clf = MultiLayerPerceptron()\n",
    "clf.load_params(params)\n",
    "nTest = 1000\n",
    "Y_pred_ad = np.zeros(nTest)\n",
    "clf.set_attack_budget(0.2)\n",
    "for i in range(nTest):\n",
    "    x, y = X_test[i], Y_test[i]\n",
    "    new_x = clf.attack(x,y)\n",
    "    new_x = np.clip(new_x, 0, 1)\n",
    "    Y_pred_ad[i] = clf.predict(new_x)    \n",
    "acc_ad = np.sum(Y_pred_ad == Y_test[:nTest])*1.0/nTest\n",
    "print (\"Test accuracy is\", acc_ad)"
   ]
  },
  {
   "cell_type": "code",
   "execution_count": 29,
   "metadata": {},
   "outputs": [
    {
     "name": "stdout",
     "output_type": "stream",
     "text": [
      "Test accuracy is 0.548\n"
     ]
    }
   ],
   "source": [
    "clf = MultiLayerPerceptron()\n",
    "clf.load_params(params)\n",
    "nTest = 1000\n",
    "Y_pred_ad_2 = np.zeros(nTest)\n",
    "clf.set_attack_budget(0.05)\n",
    "for i in range(nTest):\n",
    "    x, y = X_test[i], Y_test[i]\n",
    "    new_x = clf.attackMyMethod(x,y)\n",
    "    new_x = np.clip(new_x, 0, 1)\n",
    "    Y_pred_ad_2[i] = clf.predict(new_x) \n",
    "\n",
    "acc_ad = np.sum(Y_pred_ad_2 == Y_test[:nTest])*1.0/nTest\n",
    "print (\"Test accuracy is\", acc_ad)"
   ]
  },
  {
   "cell_type": "code",
   "execution_count": 30,
   "metadata": {},
   "outputs": [],
   "source": [
    "fgsm = [0.699,0.146,0.015,0.003]\n",
    "mymethod1 = [0.532,0.533,0.523,0.533,0.548]\n",
    "mymethod2 = [0.21,0.179,0.178,0.195,0.192]\n",
    "mymethod3 = [0.039, 0.038, 0.042, 0.038,0.041]\n",
    "mymethod4 = [0.005, 0.006, 0.003,0.007,0.008]\n",
    "mean1,std1 =  np.mean(mymethod1), np.std(mymethod1)\n",
    "mean2,std2 =  np.mean(mymethod2), np.std(mymethod2)\n",
    "mean3,std3 =  np.mean(mymethod3), np.std(mymethod3)\n",
    "mean4,std4 =  np.mean(mymethod4), np.std(mymethod4)"
   ]
  },
  {
   "cell_type": "code",
   "execution_count": 35,
   "metadata": {},
   "outputs": [
    {
     "name": "stdout",
     "output_type": "stream",
     "text": [
      "[0.5338, 0.1908, 0.0396, 0.0058]\n",
      "[0.008034923770640273, 0.011754148203932092, 0.0016248076809271934, 0.0017204650534085254]\n"
     ]
    }
   ],
   "source": [
    "x = [0,1,2,3]\n",
    "y = [mean1,mean2,mean3,mean4]\n",
    "err = [std1,std2,std3,std4]\n",
    "print(y)\n",
    "print(err)"
   ]
  },
  {
   "cell_type": "code",
   "execution_count": null,
   "metadata": {},
   "outputs": [],
   "source": []
  }
 ],
 "metadata": {
  "kernelspec": {
   "display_name": "Python 3",
   "language": "python",
   "name": "python3"
  },
  "language_info": {
   "codemirror_mode": {
    "name": "ipython",
    "version": 3
   },
   "file_extension": ".py",
   "mimetype": "text/x-python",
   "name": "python",
   "nbconvert_exporter": "python",
   "pygments_lexer": "ipython3",
   "version": "3.6.6"
  }
 },
 "nbformat": 4,
 "nbformat_minor": 2
}
