{
 "cells": [
  {
   "cell_type": "code",
   "execution_count": 91,
   "metadata": {},
   "outputs": [],
   "source": [
    "import numpy as np\n",
    "import random\n",
    "import matplotlib.pyplot as plt"
   ]
  },
  {
   "cell_type": "code",
   "execution_count": 54,
   "metadata": {},
   "outputs": [
    {
     "data": {
      "text/plain": [
       "array([[ 0.        ,  1.452455  , -0.29441432, ..., -0.11242761,\n",
       "         2.04002469,  0.782868  ],\n",
       "       [ 0.        ,  0.28906609, -0.21455828, ..., -0.05291788,\n",
       "         0.94143735,  0.74015178],\n",
       "       [ 0.        ,  0.24388594,  0.4471061 , ..., -0.17193734,\n",
       "         0.45552372,  1.12459784],\n",
       "       ...,\n",
       "       [ 1.        , -1.30353427,  0.18472195, ..., -0.52899571,\n",
       "        -1.0867239 , -0.92293343],\n",
       "       [ 1.        , -0.64842207, -0.38567837, ..., -1.00507355,\n",
       "        -0.36841679, -1.27605426],\n",
       "       [ 1.        , -1.02115832,  2.66025935, ..., -1.60017084,\n",
       "        -0.81207706, -0.59829008]])"
      ]
     },
     "execution_count": 54,
     "metadata": {},
     "output_type": "execute_result"
    }
   ],
   "source": [
    "#preprocessing data\n",
    "with open(\"./wine.data\",\"r\") as file:\n",
    "    data = file.readlines()\n",
    "data_pro = []\n",
    "for i in data:\n",
    "    data_pro.append([float(item) for item in str(i).strip().split(\",\")])\n",
    "data_np = None\n",
    "for i in data_pro:\n",
    "    if data_np is None:\n",
    "        data_np = np.array(i)\n",
    "    else:\n",
    "        data_np = np.vstack((data_np, np.array(i)))\n",
    "data_np_index = np.where(data_np[:,0]!=3)[0]\n",
    "data_np = data_np[data_np_index,:]\n",
    "data_np[:,1:] = (data_np[:,1:] - np.mean(data_np[:,1:],axis=0))/np.std(data_np[:,1:],axis=0)\n",
    "class0_index = np.where(data_np[:,0]==1)[0]\n",
    "class1_index = np.where(data_np[:,0]==2)[0]\n",
    "data_np[class0_index,0] = 0\n",
    "data_np[class1_index,0] = 1\n",
    "data_np"
   ]
  },
  {
   "cell_type": "code",
   "execution_count": 88,
   "metadata": {},
   "outputs": [],
   "source": [
    "def sigmoid(x):\n",
    "    return 1 / (1 + np.exp(-x))\n",
    "    \n",
    "def predict(x, w):\n",
    "    z = np.dot(x, w)\n",
    "    return sigmoid(z)\n",
    "\n",
    "def loss_func(w,x,y):\n",
    "    number = x.shape[0]\n",
    "    p = predict(x,w)\n",
    "    \n",
    "    #Take the error when label=1\n",
    "    class1_cost = y*np.log(p)\n",
    "    \n",
    "    #Take the error when label=0\n",
    "    class0_cost = (1-y)*np.log(1-p)\n",
    "    \n",
    "    #Take the sum of both costs\n",
    "    cost = class1_cost + class0_cost\n",
    "    cost = -np.sum(cost) / number\n",
    "    return cost\n",
    "\n",
    "\n",
    "def pick_cordinate_random():\n",
    "    return random.randint(0,12)\n",
    "\n",
    "def pick_cordinate_myself(w,x,y):\n",
    "    return random.randint(0,12)\n",
    "    predictions = predict(x,w)\n",
    "    gradient = np.dot(x.T,  predictions - y)\n",
    "    return np.argmax(gradient)\n",
    "\n",
    "\n",
    "def update_weights(x, y, w, cordi_index, lr):\n",
    "    N = x.shape[0]\n",
    "    \n",
    "    #1 - Get Predictions\n",
    "    predictions = predict(x,w)\n",
    "\n",
    "    gradient = np.dot(x.T,  predictions - y)\n",
    "\n",
    "    #3 Take the average cost derivative for each feature\n",
    "    gradient /= N\n",
    "\n",
    "    #4 - Multiply the gradient by our learning rate\n",
    "    gradient *= lr\n",
    "\n",
    "    #5 - Subtract from our weights to minimize cost\n",
    "    w[cordi_index] -= gradient[cordi_index]\n",
    "\n",
    "    return w"
   ]
  },
  {
   "cell_type": "code",
   "execution_count": 93,
   "metadata": {},
   "outputs": [
    {
     "name": "stdout",
     "output_type": "stream",
     "text": [
      "iter: 0 cost: 3.3062159216161344\n",
      "iter: 200 cost: 0.6629143880091855\n",
      "iter: 400 cost: 0.31181879005434116\n",
      "iter: 600 cost: 0.21550417145843453\n",
      "iter: 800 cost: 0.17094571800125505\n",
      "iter: 1000 cost: 0.14260600465356083\n",
      "iter: 1200 cost: 0.12155229910981212\n",
      "iter: 1400 cost: 0.10706955874144933\n",
      "iter: 1600 cost: 0.0959248162155515\n",
      "iter: 1800 cost: 0.08705973090706055\n"
     ]
    }
   ],
   "source": [
    "# initilization\n",
    "def train_random(pick_function)\n",
    "    y = data_np[:,0]\n",
    "    y = y[:,np.newaxis]\n",
    "    x = data_np[:,1:]\n",
    "    w = np.random.random((13,1))\n",
    "    iters = 2000\n",
    "    cost_history = []\n",
    "    lr = 0.1\n",
    "    for i in range(iters):\n",
    "        # Calculate error for auditing purposes\n",
    "        cost = loss_func(w, x, y)\n",
    "        cost_history.append(cost)\n",
    "    \n",
    "        # geenrate cordinate\n",
    "        cordi_index  = pick_function()\n",
    "    \n",
    "        # update weights\n",
    "        weights = update_weights(x, y, w, cordi_index, lr)\n",
    "        \n",
    "        # Log Progress\n",
    "        if i % 200 == 0:\n",
    "            print (\"iter: \"+str(i) + \" cost: \"+str(cost))\n",
    "\n",
    "    "
   ]
  },
  {
   "cell_type": "code",
   "execution_count": 94,
   "metadata": {},
   "outputs": [
    {
     "data": {
      "image/png": "[encoded data removed]",
      "text/plain": [
       "<Figure size 432x288 with 1 Axes>"
      ]
     },
     "metadata": {
      "needs_background": "light"
     },
     "output_type": "display_data"
    }
   ],
   "source": [
    "plt.plot(range(len(cost_history)),cost_history)\n",
    "plt.show()"
   ]
  },
  {
   "cell_type": "code",
   "execution_count": null,
   "metadata": {},
   "outputs": [],
   "source": []
  }
 ],
 "metadata": {
  "kernelspec": {
   "display_name": "Python 3",
   "language": "python",
   "name": "python3"
  },
  "language_info": {
   "codemirror_mode": {
    "name": "ipython",
    "version": 3
   },
   "file_extension": ".py",
   "mimetype": "text/x-python",
   "name": "python",
   "nbconvert_exporter": "python",
   "pygments_lexer": "ipython3",
   "version": "3.6.6"
  }
 },
 "nbformat": 4,
 "nbformat_minor": 2
}
